{
 "cells": [
  {
   "cell_type": "code",
   "execution_count": 1,
   "metadata": {},
   "outputs": [],
   "source": [
    "from dsLecture3 import ArrayStack\n",
    "\n",
    "class Arithmatic:   \n",
    "    def __init__(self):\n",
    "        self._valStk = None\n",
    "        self._opStk  = None\n",
    "\n",
    "    def _prec(self, operator):  # Global function\n",
    "        operators  = ['+', '-', '*', '/', '<=', '==', '>=', '<', '>', '$']\n",
    "        precedence = [ 2 ,  2 ,  3 ,  3 ,  1  ,   1 ,   1 ,  1 ,  1 ,  0 ]\n",
    "\n",
    "        return precedence[operators.index(operator)]\n",
    "\n",
    "    def _doOp(self):\n",
    "        x = self._valStk.pop()\n",
    "        y = self._valStk.pop()\n",
    "        op = self._opStk.pop()\n",
    "\n",
    "        self._valStk.push(eval(f'{y}{op}{x}'))\n",
    "        \n",
    "    def _repeatOps(self, refOp):\n",
    "        while len(self._valStk) > 1 and self._prec(refOp) <= self._prec(self._opStk.top()):\n",
    "            self._doOp()    \n",
    "\n",
    "    def evaluate(self, expression):\n",
    "        self._valStk = ArrayStack()\n",
    "        self._opStk  = ArrayStack()\n",
    "        \n",
    "        for token in expression:\n",
    "            if type(token) in [int, float]:\n",
    "                self._valStk.push(token)\n",
    "            else:\n",
    "                self._repeatOps(token)\n",
    "                self._opStk.push(token)\n",
    "        \n",
    "        self._repeatOps('$')\n",
    "        \n",
    "        return self._valStk.top()\n",
    "            \n",
    "        "
   ]
  },
  {
   "cell_type": "code",
   "execution_count": 2,
   "metadata": {},
   "outputs": [],
   "source": [
    "A = Arithmatic()"
   ]
  },
  {
   "cell_type": "code",
   "execution_count": 3,
   "metadata": {},
   "outputs": [
    {
     "data": {
      "text/plain": [
       "4"
      ]
     },
     "execution_count": 3,
     "metadata": {},
     "output_type": "execute_result"
    }
   ],
   "source": [
    "A.evaluate([1,'+',3])"
   ]
  },
  {
   "cell_type": "code",
   "execution_count": 4,
   "metadata": {},
   "outputs": [
    {
     "data": {
      "text/plain": [
       "False"
      ]
     },
     "execution_count": 4,
     "metadata": {},
     "output_type": "execute_result"
    }
   ],
   "source": [
    "A.evaluate([14,'<=',4,'-',3,'*',2,'+',7])"
   ]
  },
  {
   "cell_type": "code",
   "execution_count": 5,
   "metadata": {},
   "outputs": [],
   "source": [
    "class Arithmatic_explain:   \n",
    "    def __init__(self):\n",
    "        self._valStk = None\n",
    "        self._opStk  = None\n",
    "\n",
    "    def _prec(self, operator):  # Global function\n",
    "        operators  = ['+', '-', '*', '/', '<=', '==', '>=', '<', '>', '$']\n",
    "        precedence = [ 2 ,  2 ,  3 ,  3 ,  1  ,   1 ,   1 ,  1 ,  1 ,  0 ]\n",
    "\n",
    "        return precedence[operators.index(operator)]\n",
    "\n",
    "    def _doOp(self):\n",
    "        print('    # VAL ', end=''); self._valStk.display_complex()\n",
    "        x = self._valStk.pop()\n",
    "        y = self._valStk.pop()\n",
    "        op = self._opStk.pop()\n",
    "\n",
    "        print(f'    doOp: Pop {x}, then {y} from valStk. Pop {op} from opStk.')\n",
    "        print(f'    doOp: Calculate {y}{op}{x}, and put it back to valStk.')\n",
    "        \n",
    "        self._valStk.push(eval(f'{y}{op}{x}'))\n",
    "        print('    # VAL ', end=''); self._valStk.display_complex()\n",
    "        print('    #  OP ', end=''); self._opStk.display_complex()\n",
    "        \n",
    "        \n",
    "    def _repeatOps(self, refOp):\n",
    "        prec_ref = self._prec(refOp)\n",
    "        print(f'  repeatOps: Consume all Ops in opStack, which are higher or equal than {refOp}')\n",
    "        print('  # VAL ', end=''); self._valStk.display_complex()\n",
    "        print('  #  OP ', end=''); self._opStk.display_complex()\n",
    "        \n",
    "        while len(self._valStk) > 1 and prec_ref <= self._prec(self._opStk.top()):\n",
    "            prec_top = self._prec(self._opStk.top())\n",
    "            print(f'  repeatOps: {refOp} <= {self._opStk.top()}')\n",
    "\n",
    "            self._doOp()\n",
    "        if len(self._valStk) <= 1:\n",
    "            print(f'  repeatOps: Because there is only one value in valStk, it ends here.')\n",
    "        else:\n",
    "            print(f'  repeatOps: Because {refOp} > {self._opStk.top()}, it ends here')\n",
    "\n",
    "    def evaluate(self, expression):\n",
    "        print('evaluate: Initialize valStk and opStk')\n",
    "        self._valStk = ArrayStack()\n",
    "        self._opStk  = ArrayStack()\n",
    "        print('# VAL ', end=''); self._valStk.display_complex()\n",
    "        print('#  OP ', end=''); self._opStk.display_complex()\n",
    " \n",
    "        \n",
    "        for token in expression:\n",
    "            if type(token) in [int, float]:\n",
    "                print(f'evaluate: {token} is a number. push it to valStk.')\n",
    "                self._valStk.push(token)\n",
    "            else:\n",
    "                print(f'evaluate: {token} is an operator. Call repeatOps.')\n",
    "                self._repeatOps(token)\n",
    "                print(f'evalaute: push {token} into opStk')\n",
    "                self._opStk.push(token)\n",
    "            \n",
    "            print('# VAL ', end=''); self._valStk.display_complex()\n",
    "            print('#  OP ', end=''); self._opStk.display_complex()\n",
    "\n",
    "        print(f'evalaute: End of the expression. Consume all the remaining operations')\n",
    "        self._repeatOps('$')\n",
    "        \n",
    "        return self._valStk.top()"
   ]
  },
  {
   "cell_type": "code",
   "execution_count": 1,
   "metadata": {},
   "outputs": [
    {
     "ename": "NameError",
     "evalue": "name 'Arithmatic_explain' is not defined",
     "output_type": "error",
     "traceback": [
      "\u001b[1;31m---------------------------------------------------------------------------\u001b[0m",
      "\u001b[1;31mNameError\u001b[0m                                 Traceback (most recent call last)",
      "\u001b[1;32m<ipython-input-1-b4e0618c4363>\u001b[0m in \u001b[0;36m<module>\u001b[1;34m\u001b[0m\n\u001b[1;32m----> 1\u001b[1;33m \u001b[0mA_exp\u001b[0m \u001b[1;33m=\u001b[0m \u001b[0mArithmatic_explain\u001b[0m\u001b[1;33m(\u001b[0m\u001b[1;33m)\u001b[0m\u001b[1;33m\u001b[0m\u001b[1;33m\u001b[0m\u001b[0m\n\u001b[0m",
      "\u001b[1;31mNameError\u001b[0m: name 'Arithmatic_explain' is not defined"
     ]
    }
   ],
   "source": [
    "A_exp = Arithmatic_explain()"
   ]
  },
  {
   "cell_type": "code",
   "execution_count": 7,
   "metadata": {
    "scrolled": false
   },
   "outputs": [
    {
     "name": "stdout",
     "output_type": "stream",
     "text": [
      "evaluate: Initialize valStk and opStk\n",
      "# VAL STACK: B||T\n",
      "#  OP STACK: B||T\n",
      "evaluate: 1 is a number. push it to valStk.\n",
      "# VAL STACK: B|1|T\n",
      "#  OP STACK: B||T\n",
      "evaluate: + is an operator. Call repeatOps.\n",
      "  repeatOps: Consume all Ops in opStack, which are higher or equal than +\n",
      "  # VAL STACK: B|1|T\n",
      "  #  OP STACK: B||T\n",
      "  repeatOps: Because there is only one value in valStk, it ends here.\n",
      "evalaute: push + into opStk\n",
      "# VAL STACK: B|1|T\n",
      "#  OP STACK: B|+|T\n",
      "evaluate: 3 is a number. push it to valStk.\n",
      "# VAL STACK: B|1,3|T\n",
      "#  OP STACK: B|+|T\n",
      "evalaute: End of the expression. Consume all the remaining operations\n",
      "  repeatOps: Consume all Ops in opStack, which are higher or equal than $\n",
      "  # VAL STACK: B|1,3|T\n",
      "  #  OP STACK: B|+|T\n",
      "  repeatOps: $ <= +\n",
      "    # VAL STACK: B|1,3|T\n",
      "    doOp: Pop 3, then 1 from valStk. Pop + from opStk.\n",
      "    doOp: Calculate 1+3, and put it back to valStk.\n",
      "    # VAL STACK: B|4|T\n",
      "    #  OP STACK: B||T\n",
      "  repeatOps: Because there is only one value in valStk, it ends here.\n"
     ]
    },
    {
     "data": {
      "text/plain": [
       "4"
      ]
     },
     "execution_count": 7,
     "metadata": {},
     "output_type": "execute_result"
    }
   ],
   "source": [
    "A_exp.evaluate([1,'+',3])"
   ]
  },
  {
   "cell_type": "code",
   "execution_count": 8,
   "metadata": {
    "scrolled": true
   },
   "outputs": [
    {
     "name": "stdout",
     "output_type": "stream",
     "text": [
      "evaluate: Initialize valStk and opStk\n",
      "# VAL STACK: B||T\n",
      "#  OP STACK: B||T\n",
      "evaluate: 14 is a number. push it to valStk.\n",
      "# VAL STACK: B|14|T\n",
      "#  OP STACK: B||T\n",
      "evaluate: <= is an operator. Call repeatOps.\n",
      "  repeatOps: Consume all Ops in opStack, which are higher or equal than <=\n",
      "  # VAL STACK: B|14|T\n",
      "  #  OP STACK: B||T\n",
      "  repeatOps: Because there is only one value in valStk, it ends here.\n",
      "evalaute: push <= into opStk\n",
      "# VAL STACK: B|14|T\n",
      "#  OP STACK: B|<=|T\n",
      "evaluate: 4 is a number. push it to valStk.\n",
      "# VAL STACK: B|14,4|T\n",
      "#  OP STACK: B|<=|T\n",
      "evaluate: - is an operator. Call repeatOps.\n",
      "  repeatOps: Consume all Ops in opStack, which are higher or equal than -\n",
      "  # VAL STACK: B|14,4|T\n",
      "  #  OP STACK: B|<=|T\n",
      "  repeatOps: Because - > <=, it ends here\n",
      "evalaute: push - into opStk\n",
      "# VAL STACK: B|14,4|T\n",
      "#  OP STACK: B|<=,-|T\n",
      "evaluate: 3 is a number. push it to valStk.\n",
      "# VAL STACK: B|14,4,3|T\n",
      "#  OP STACK: B|<=,-|T\n",
      "evaluate: * is an operator. Call repeatOps.\n",
      "  repeatOps: Consume all Ops in opStack, which are higher or equal than *\n",
      "  # VAL STACK: B|14,4,3|T\n",
      "  #  OP STACK: B|<=,-|T\n",
      "  repeatOps: Because * > -, it ends here\n",
      "evalaute: push * into opStk\n",
      "# VAL STACK: B|14,4,3|T\n",
      "#  OP STACK: B|<=,-,*|T\n",
      "evaluate: 2 is a number. push it to valStk.\n",
      "# VAL STACK: B|14,4,3,2|T\n",
      "#  OP STACK: B|<=,-,*|T\n",
      "evaluate: + is an operator. Call repeatOps.\n",
      "  repeatOps: Consume all Ops in opStack, which are higher or equal than +\n",
      "  # VAL STACK: B|14,4,3,2|T\n",
      "  #  OP STACK: B|<=,-,*|T\n",
      "  repeatOps: + <= *\n",
      "    # VAL STACK: B|14,4,3,2|T\n",
      "    doOp: Pop 2, then 3 from valStk. Pop * from opStk.\n",
      "    doOp: Calculate 3*2, and put it back to valStk.\n",
      "    # VAL STACK: B|14,4,6|T\n",
      "    #  OP STACK: B|<=,-|T\n",
      "  repeatOps: + <= -\n",
      "    # VAL STACK: B|14,4,6|T\n",
      "    doOp: Pop 6, then 4 from valStk. Pop - from opStk.\n",
      "    doOp: Calculate 4-6, and put it back to valStk.\n",
      "    # VAL STACK: B|14,-2|T\n",
      "    #  OP STACK: B|<=|T\n",
      "  repeatOps: Because + > <=, it ends here\n",
      "evalaute: push + into opStk\n",
      "# VAL STACK: B|14,-2|T\n",
      "#  OP STACK: B|<=,+|T\n",
      "evaluate: 7 is a number. push it to valStk.\n",
      "# VAL STACK: B|14,-2,7|T\n",
      "#  OP STACK: B|<=,+|T\n",
      "evalaute: End of the expression. Consume all the remaining operations\n",
      "  repeatOps: Consume all Ops in opStack, which are higher or equal than $\n",
      "  # VAL STACK: B|14,-2,7|T\n",
      "  #  OP STACK: B|<=,+|T\n",
      "  repeatOps: $ <= +\n",
      "    # VAL STACK: B|14,-2,7|T\n",
      "    doOp: Pop 7, then -2 from valStk. Pop + from opStk.\n",
      "    doOp: Calculate -2+7, and put it back to valStk.\n",
      "    # VAL STACK: B|14,5|T\n",
      "    #  OP STACK: B|<=|T\n",
      "  repeatOps: $ <= <=\n",
      "    # VAL STACK: B|14,5|T\n",
      "    doOp: Pop 5, then 14 from valStk. Pop <= from opStk.\n",
      "    doOp: Calculate 14<=5, and put it back to valStk.\n",
      "    # VAL STACK: B|False|T\n",
      "    #  OP STACK: B||T\n",
      "  repeatOps: Because there is only one value in valStk, it ends here.\n"
     ]
    },
    {
     "data": {
      "text/plain": [
       "False"
      ]
     },
     "execution_count": 8,
     "metadata": {},
     "output_type": "execute_result"
    }
   ],
   "source": [
    "A_exp.evaluate([14,'<=',4,'-',3,'*',2,'+',7])"
   ]
  },
  {
   "cell_type": "code",
   "execution_count": null,
   "metadata": {},
   "outputs": [],
   "source": []
  },
  {
   "cell_type": "code",
   "execution_count": null,
   "metadata": {},
   "outputs": [],
   "source": []
  }
 ],
 "metadata": {
  "kernelspec": {
   "display_name": "Python 3",
   "language": "python",
   "name": "python3"
  },
  "language_info": {
   "codemirror_mode": {
    "name": "ipython",
    "version": 3
   },
   "file_extension": ".py",
   "mimetype": "text/x-python",
   "name": "python",
   "nbconvert_exporter": "python",
   "pygments_lexer": "ipython3",
   "version": "3.7.4"
  }
 },
 "nbformat": 4,
 "nbformat_minor": 2
}
