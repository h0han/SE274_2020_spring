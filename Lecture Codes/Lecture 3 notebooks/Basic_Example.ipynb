{
 "cells": [
  {
   "cell_type": "markdown",
   "metadata": {},
   "source": [
    "# Stack\n",
    "A ***stack*** is a collection of objects that are inserted and removed according to the ***last-in, first-out (LIFO)*** principle. A user may insert objects into a stack at any time, but may only access or remove the most recently inserted object that remains (at the so-called “top” of the stack). The name “stack” is derived from the metaphor of a stack of plates in a spring-loaded, cafeteria plate dispenser. In this case, the fundamental operations involve the “pushing” and “popping” of plates on the stack. When we need a new plate from the dispenser, we “pop” the top plate off the stack, and when we add a plate, we “push” it down on the stack to become the new top plate. Perhaps an even more amusing example is a PEZ® candy dispenser, which stores mint candies in a spring-loaded container that “pops” out the topmost candy in the stack when the top of the dispenser is lifted (see Figure 6.1). Stacks are a fundamental data structure. They are used in many applications, including the following.\n",
    " * Internt Web Browsers - history function\n",
    " * Text editors - Undo mechanism\n",
    "\n",
    "\n",
    "## The Stack Abstract Data Type (ADT)\n",
    "Stacks are the simplest of all data structures, yet they are also among the most important. They are used in a host of different applications, and as a tool for many more sophisticated data structures and algorithms. Formally, a stack is an abstract data type (ADT) such that an instance S supports the following two methods:\n",
    "\n",
    "| Mehod | Function |\n",
    "| --- | --- |\n",
    "| `S.push(e)` | Add element e to the top of stack **S**. |\n",
    "| `e = S.pop()` | Remove and return the top element from the stack **S**; an error occurs if the stack is empty. |\n",
    "\n",
    "Additionally, let us define the following accessor methods for convenience:\n",
    "\n",
    "| Mehod | Function |\n",
    "| --- | --- |\n",
    "| `e = S.top()` | Return a reference to the top element of stack **S**, without removing it; an error occurs if the stack is empty. |\n",
    "| `S.is_empty()` | Return True if stack **S** does not contain any elements. |\n",
    "| `len(S)` | Return the number of elements in stack S; in Python, we implement this with the special method `__len__`. |\n",
    "\n",
    "By convention, we assume that a newly created stack is empty, and that there is no a priori bound on the capacity of the stack. Elements added to the stack can have arbitrary type.\n",
    "\n",
    "```python\n",
    "class ArrayStack: # Space used: O(n)\n",
    "    def __init__(self):\n",
    "        self._data = []   # O(1)\n",
    "    \n",
    "    def __len__(self):\n",
    "        return len(self._data) # O(1)\n",
    "\n",
    "\n",
    "    def is_empty(self):\n",
    "        return len(self._data) == 0  # O(1)\n",
    "    \n",
    "    def push(self, e):\n",
    "        self._data.append(e)   # O(1)*\n",
    "\n",
    "    def top(self):\n",
    "        if self.is_empty():\n",
    "            raise EmptyException('Stack is empty')\n",
    "        return self._data[-1] # O(1)\n",
    "\n",
    "    def pop(self):\n",
    "        if self.is_empty():\n",
    "            raise EmptyException('Stack is empty')\n",
    "        return self._data.pop()  # O(1)*, same to self._data.pop(-1)\n",
    "```"
   ]
  },
  {
   "cell_type": "code",
   "execution_count": 3,
   "metadata": {},
   "outputs": [],
   "source": [
    "from dsLecture3 import ArrayStack, ArrayQueue\n",
    "a = ArrayStack()"
   ]
  },
  {
   "cell_type": "code",
   "execution_count": 4,
   "metadata": {},
   "outputs": [
    {
     "name": "stdout",
     "output_type": "stream",
     "text": [
      "STACK: B|a|T\n",
      "STACK: B|ab|T\n",
      "STACK: B|abc|T\n"
     ]
    }
   ],
   "source": [
    "a.push('a')\n",
    "a.display()\n",
    "a.push('b')\n",
    "a.display()\n",
    "a.push('c')\n",
    "a.display()"
   ]
  },
  {
   "cell_type": "code",
   "execution_count": 5,
   "metadata": {},
   "outputs": [
    {
     "name": "stdout",
     "output_type": "stream",
     "text": [
      "c\n",
      "STACK: B|ab|T\n",
      "b\n",
      "STACK: B|ab|T\n",
      "b\n",
      "a\n",
      "STACK: B||T\n"
     ]
    }
   ],
   "source": [
    "print(a.pop())\n",
    "a.display()\n",
    "print(a.top())\n",
    "a.display()\n",
    "print(a.pop())\n",
    "print(a.pop())\n",
    "a.display()"
   ]
  },
  {
   "cell_type": "code",
   "execution_count": 6,
   "metadata": {},
   "outputs": [
    {
     "ename": "EmptyException",
     "evalue": "Stack is empty",
     "output_type": "error",
     "traceback": [
      "\u001b[0;31m---------------------------------------------------------------------------\u001b[0m",
      "\u001b[0;31mEmptyException\u001b[0m                            Traceback (most recent call last)",
      "\u001b[0;32m<ipython-input-6-9c070c907602>\u001b[0m in \u001b[0;36m<module>\u001b[0;34m\u001b[0m\n\u001b[0;32m----> 1\u001b[0;31m \u001b[0ma\u001b[0m\u001b[0;34m.\u001b[0m\u001b[0mpop\u001b[0m\u001b[0;34m(\u001b[0m\u001b[0;34m)\u001b[0m\u001b[0;34m\u001b[0m\u001b[0;34m\u001b[0m\u001b[0m\n\u001b[0m",
      "\u001b[0;32m~/Documents/Materials/Lecture/2020-Spring DGIST Data Structure/Lecture/Week 4/notebooks/dsLecture3.py\u001b[0m in \u001b[0;36mpop\u001b[0;34m(self)\u001b[0m\n\u001b[1;32m     24\u001b[0m     \u001b[0;32mdef\u001b[0m \u001b[0mpop\u001b[0m\u001b[0;34m(\u001b[0m\u001b[0mself\u001b[0m\u001b[0;34m)\u001b[0m\u001b[0;34m:\u001b[0m\u001b[0;34m\u001b[0m\u001b[0;34m\u001b[0m\u001b[0m\n\u001b[1;32m     25\u001b[0m         \u001b[0;32mif\u001b[0m \u001b[0mself\u001b[0m\u001b[0;34m.\u001b[0m\u001b[0mis_empty\u001b[0m\u001b[0;34m(\u001b[0m\u001b[0;34m)\u001b[0m\u001b[0;34m:\u001b[0m\u001b[0;34m\u001b[0m\u001b[0;34m\u001b[0m\u001b[0m\n\u001b[0;32m---> 26\u001b[0;31m             \u001b[0;32mraise\u001b[0m \u001b[0mEmptyException\u001b[0m\u001b[0;34m(\u001b[0m\u001b[0;34m'Stack is empty'\u001b[0m\u001b[0;34m)\u001b[0m\u001b[0;34m\u001b[0m\u001b[0;34m\u001b[0m\u001b[0m\n\u001b[0m\u001b[1;32m     27\u001b[0m         \u001b[0;32mreturn\u001b[0m \u001b[0mself\u001b[0m\u001b[0;34m.\u001b[0m\u001b[0m_data\u001b[0m\u001b[0;34m.\u001b[0m\u001b[0mpop\u001b[0m\u001b[0;34m(\u001b[0m\u001b[0;34m)\u001b[0m  \u001b[0;31m# O(1)*, same to self._data.pop(-1)\u001b[0m\u001b[0;34m\u001b[0m\u001b[0;34m\u001b[0m\u001b[0m\n\u001b[1;32m     28\u001b[0m \u001b[0;34m\u001b[0m\u001b[0m\n",
      "\u001b[0;31mEmptyException\u001b[0m: Stack is empty"
     ]
    }
   ],
   "source": [
    "a.pop()"
   ]
  },
  {
   "cell_type": "markdown",
   "metadata": {},
   "source": [
    "# Queue\n",
    "Another fundamental data structure is the ***queue***. It is a close “cousin” of the stack, as a queue is a collection of objects that are inserted and removed according to the ***first-in, first-out (FIFO)*** principle. That is, elements can be inserted at any time, but only the element that has been in the queue the longest can be next removed.\n",
    "\n",
    "We usually say that elements enter a queue at the back and are removed from the front. A metaphor for this terminology is a line of people waiting to get on an amusement park ride. People waiting for such a ride enter at the back of the line and get on the ride from the front of the line. There are many other applications of queues (see Figure 6.4). Stores, theaters, reservation centers, and other similar services typically process customer requests according to the FIFO principle. A queue would therefore be a logical choice for a data structure to handle calls to a customer service center, or a wait-list at a restaurant. FIFO queues are also used by many computing devices, such as a networked printer, or a Web server responding to requests.\n",
    "\n",
    "![Fig 6.4. Queue examples, (a) People waiting in line to purchase tickets; (b) phone calls being routed to a customer service center](Queue.png)\n",
    "\n",
    "\n",
    "## The Queue Abstract Data Type (ADT)\n",
    "Formally, the queue abstract data type defines a collection that keeps objects in a sequence, where element access and deletion are restricted to the first element in the queue, and element insertion is restricted to the back of the sequence. This restriction enforces the rule that items are inserted and deleted in a queue accord- ing to the first-in, first-out (FIFO) principle. The queue abstract data type (ADT) supports the following two fundamental methods for a queue Q:\n",
    "\n",
    "| Mehod | Function |\n",
    "| --- | --- |\n",
    "| `Q.euqueue(e)` | Add element e to the back of queue **Q**. |\n",
    "| `e = Q.dequeue()` | Remove and return the first element from queue **Q**; an error occurs if the queue is empty. |\n",
    "\n",
    "The queue ADT also includes the following supporting methods (with first being analogous to the stack’s top method):\n",
    "\n",
    "| Mehod | Function |\n",
    "| --- | --- |\n",
    "| `e = Q.first()` | Return a reference to the element at the front of queue **Q**, without removing it; an error occurs if the queue is empty.|\n",
    "| `Q.is_empty()` | Return True if queue **Q** does not contain any elements. |\n",
    "| `len(S)` | Return the number of elements in queue **Q**; in Python, we implement this with the special method `__len__`. |\n",
    "\n",
    "By convention, we assume that a newly created queue is empty, and that there is no a priori bound on the capacity of the queue. Elements added to the queue can have arbitrary type.\n",
    "\n",
    "```python\n",
    "class ArrayQueue: # Space used: O(n)\n",
    "    DEFAULT_CAPACITY = 10\n",
    "\n",
    "    def __init__(self, capacity=DEFAULT_CAPACITY):\n",
    "        self._data = [None] * capacity\n",
    "        self._size = 0\n",
    "        self._front = 0\n",
    "\n",
    "    def __len__(self): # O(1)\n",
    "        return self._size\n",
    "    \n",
    "    def is_empty(self): # O(1)\n",
    "        return self._size == 0\n",
    "\n",
    "    def first(self): # O(1)\n",
    "        if self.is_empty():\n",
    "            raise EmptyException('Queue is empty')\n",
    "        return self._data[self._front]\n",
    "\n",
    "    def dequeue(self):   # O(1)*\n",
    "        if self.is_empty():\n",
    "            raise EmptyException('Queue is empty')\n",
    "        answer = self._data[self._front]\n",
    "        self._data[self._front] = None  # help garbage collection\n",
    "\n",
    "        self._front = (self._front+1) % len(self._data)\n",
    "        self._size -= 1\n",
    "        \n",
    "        return answer\n",
    "\n",
    "    def enqueue(self, e): # O(1)*\n",
    "        if self._size == len(self._data):\n",
    "            self._resize(2*len(self._data))\n",
    "        avail = (self._front + self._size) % len(self._data)\n",
    "        self._data[avail] = e\n",
    "        self._size += 1\n",
    "\n",
    "    def _resize(self, cap): # O(n)\n",
    "        old = self._data\n",
    "        self._data = [None] * cap\n",
    "        walk = self._front\n",
    "        \n",
    "        for k in range(self._size):\n",
    "            self._data[k] = old[walk]\n",
    "            walk = (1+walk) % len(old)\n",
    "        self._front = 0\n",
    "```"
   ]
  },
  {
   "cell_type": "code",
   "execution_count": 7,
   "metadata": {},
   "outputs": [],
   "source": [
    "b = ArrayQueue(2)"
   ]
  },
  {
   "cell_type": "code",
   "execution_count": 8,
   "metadata": {},
   "outputs": [
    {
     "name": "stdout",
     "output_type": "stream",
     "text": [
      "QUEUE: |a.|\n",
      "        ^\n",
      "QUEUE: |ab|\n",
      "        ^\n"
     ]
    }
   ],
   "source": [
    "b.enqueue('a')\n",
    "b.display()\n",
    "b.enqueue('b')\n",
    "b.display()"
   ]
  },
  {
   "cell_type": "code",
   "execution_count": 9,
   "metadata": {},
   "outputs": [
    {
     "name": "stdout",
     "output_type": "stream",
     "text": [
      "a\n",
      "QUEUE: |.b|\n",
      "         ^\n",
      "b\n",
      "QUEUE: |..|\n",
      "        ^\n"
     ]
    }
   ],
   "source": [
    "print(b.dequeue())\n",
    "b.display()\n",
    "print(b.dequeue())\n",
    "b.display()"
   ]
  },
  {
   "cell_type": "code",
   "execution_count": 10,
   "metadata": {},
   "outputs": [
    {
     "name": "stdout",
     "output_type": "stream",
     "text": [
      "QUEUE: |a.|\n",
      "        ^\n",
      "QUEUE: |ab|\n",
      "        ^\n",
      "QUEUE: |abc.|\n",
      "        ^\n",
      "QUEUE: |abcd|\n",
      "        ^\n",
      "QUEUE: |abcde...|\n",
      "        ^\n",
      "a\n",
      "QUEUE: |.bcde...|\n",
      "         ^\n",
      "b\n",
      "QUEUE: |..cde...|\n",
      "          ^\n",
      "c\n",
      "QUEUE: |...de...|\n",
      "           ^\n",
      "d\n",
      "QUEUE: |....e...|\n",
      "            ^\n",
      "e\n",
      "QUEUE: |........|\n",
      "             ^\n"
     ]
    }
   ],
   "source": [
    "b.enqueue('a')\n",
    "b.display()\n",
    "b.enqueue('b')\n",
    "b.display()\n",
    "b.enqueue('c')\n",
    "b.display()\n",
    "b.enqueue('d')\n",
    "b.display()\n",
    "b.enqueue('e')\n",
    "b.display()\n",
    "print(b.dequeue())\n",
    "b.display()\n",
    "print(b.dequeue())\n",
    "b.display()\n",
    "print(b.dequeue())\n",
    "b.display()\n",
    "print(b.dequeue())\n",
    "b.display()\n",
    "print(b.dequeue())\n",
    "b.display()"
   ]
  },
  {
   "cell_type": "code",
   "execution_count": 11,
   "metadata": {},
   "outputs": [
    {
     "name": "stdout",
     "output_type": "stream",
     "text": [
      "QUEUE: |.....a..|\n",
      "             ^\n",
      "QUEUE: |.....ab.|\n",
      "             ^\n",
      "QUEUE: |.....abc|\n",
      "             ^\n",
      "QUEUE: |d....abc|\n",
      "             ^\n",
      "QUEUE: |de...abc|\n",
      "             ^\n",
      "a\n",
      "QUEUE: |de....bc|\n",
      "              ^\n",
      "b\n",
      "QUEUE: |de.....c|\n",
      "               ^\n",
      "c\n",
      "QUEUE: |de......|\n",
      "        ^\n",
      "d\n",
      "QUEUE: |.e......|\n",
      "         ^\n",
      "e\n",
      "QUEUE: |........|\n",
      "          ^\n"
     ]
    }
   ],
   "source": [
    "b.enqueue('a')\n",
    "b.display()\n",
    "b.enqueue('b')\n",
    "b.display()\n",
    "b.enqueue('c')\n",
    "b.display()\n",
    "b.enqueue('d')\n",
    "b.display()\n",
    "b.enqueue('e')\n",
    "b.display()\n",
    "print(b.dequeue())\n",
    "b.display()\n",
    "print(b.dequeue())\n",
    "b.display()\n",
    "print(b.dequeue())\n",
    "b.display()\n",
    "print(b.dequeue())\n",
    "b.display()\n",
    "print(b.dequeue())\n",
    "b.display()"
   ]
  },
  {
   "cell_type": "code",
   "execution_count": 12,
   "metadata": {},
   "outputs": [
    {
     "name": "stdout",
     "output_type": "stream",
     "text": [
      "QUEUE: |..a.....|\n",
      "          ^\n",
      "QUEUE: |..ab....|\n",
      "          ^\n",
      "QUEUE: |..abc...|\n",
      "          ^\n",
      "QUEUE: |..abcd..|\n",
      "          ^\n",
      "QUEUE: |..abcde.|\n",
      "          ^\n",
      "a\n",
      "QUEUE: |...bcde.|\n",
      "           ^\n",
      "b\n",
      "QUEUE: |....cde.|\n",
      "            ^\n",
      "c\n",
      "QUEUE: |.....de.|\n",
      "             ^\n",
      "d\n",
      "QUEUE: |......e.|\n",
      "              ^\n",
      "e\n",
      "QUEUE: |........|\n",
      "               ^\n"
     ]
    }
   ],
   "source": [
    "b.enqueue('a')\n",
    "b.display()\n",
    "b.enqueue('b')\n",
    "b.display()\n",
    "b.enqueue('c')\n",
    "b.display()\n",
    "b.enqueue('d')\n",
    "b.display()\n",
    "b.enqueue('e')\n",
    "b.display()\n",
    "print(b.dequeue())\n",
    "b.display()\n",
    "print(b.dequeue())\n",
    "b.display()\n",
    "print(b.dequeue())\n",
    "b.display()\n",
    "print(b.dequeue())\n",
    "b.display()\n",
    "print(b.dequeue())\n",
    "b.display()"
   ]
  },
  {
   "cell_type": "code",
   "execution_count": 13,
   "metadata": {},
   "outputs": [
    {
     "name": "stdout",
     "output_type": "stream",
     "text": [
      "QUEUE: |.......a|\n",
      "               ^\n",
      "QUEUE: |b......a|\n",
      "               ^\n",
      "QUEUE: |bc.....a|\n",
      "               ^\n",
      "QUEUE: |bcd....a|\n",
      "               ^\n",
      "QUEUE: |bcde...a|\n",
      "               ^\n",
      "a\n",
      "QUEUE: |bcde....|\n",
      "        ^\n",
      "b\n",
      "QUEUE: |.cde....|\n",
      "         ^\n",
      "c\n",
      "QUEUE: |..de....|\n",
      "          ^\n",
      "d\n",
      "QUEUE: |...e....|\n",
      "           ^\n",
      "e\n",
      "QUEUE: |........|\n",
      "            ^\n"
     ]
    }
   ],
   "source": [
    "b.enqueue('a')\n",
    "b.display()\n",
    "b.enqueue('b')\n",
    "b.display()\n",
    "b.enqueue('c')\n",
    "b.display()\n",
    "b.enqueue('d')\n",
    "b.display()\n",
    "b.enqueue('e')\n",
    "b.display()\n",
    "print(b.dequeue())\n",
    "b.display()\n",
    "print(b.dequeue())\n",
    "b.display()\n",
    "print(b.dequeue())\n",
    "b.display()\n",
    "print(b.dequeue())\n",
    "b.display()\n",
    "print(b.dequeue())\n",
    "b.display()"
   ]
  },
  {
   "cell_type": "code",
   "execution_count": 14,
   "metadata": {},
   "outputs": [
    {
     "ename": "EmptyException",
     "evalue": "Queue is empty",
     "output_type": "error",
     "traceback": [
      "\u001b[0;31m---------------------------------------------------------------------------\u001b[0m",
      "\u001b[0;31mEmptyException\u001b[0m                            Traceback (most recent call last)",
      "\u001b[0;32m<ipython-input-14-63b240b5c5de>\u001b[0m in \u001b[0;36m<module>\u001b[0;34m\u001b[0m\n\u001b[0;32m----> 1\u001b[0;31m \u001b[0mb\u001b[0m\u001b[0;34m.\u001b[0m\u001b[0mdequeue\u001b[0m\u001b[0;34m(\u001b[0m\u001b[0;34m)\u001b[0m\u001b[0;34m\u001b[0m\u001b[0;34m\u001b[0m\u001b[0m\n\u001b[0m",
      "\u001b[0;32m~/Documents/Materials/Lecture/2020-Spring DGIST Data Structure/Lecture/Week 4/notebooks/dsLecture3.py\u001b[0m in \u001b[0;36mdequeue\u001b[0;34m(self)\u001b[0m\n\u001b[1;32m     58\u001b[0m         \u001b[0;32mif\u001b[0m \u001b[0mself\u001b[0m\u001b[0;34m.\u001b[0m\u001b[0mis_empty\u001b[0m\u001b[0;34m(\u001b[0m\u001b[0;34m)\u001b[0m\u001b[0;34m:\u001b[0m\u001b[0;34m\u001b[0m\u001b[0;34m\u001b[0m\u001b[0m\n\u001b[1;32m     59\u001b[0m             \u001b[0;32mraise\u001b[0m \u001b[0mEmptyException\u001b[0m\u001b[0;34m(\u001b[0m\u001b[0;34m'Queue is empty'\u001b[0m\u001b[0;34m)\u001b[0m\u001b[0;34m\u001b[0m\u001b[0;34m\u001b[0m\u001b[0m\n\u001b[0;32m---> 60\u001b[0;31m         \u001b[0manswer\u001b[0m \u001b[0;34m=\u001b[0m \u001b[0mself\u001b[0m\u001b[0;34m.\u001b[0m\u001b[0m_data\u001b[0m\u001b[0;34m[\u001b[0m\u001b[0mself\u001b[0m\u001b[0;34m.\u001b[0m\u001b[0m_front\u001b[0m\u001b[0;34m]\u001b[0m\u001b[0;34m\u001b[0m\u001b[0;34m\u001b[0m\u001b[0m\n\u001b[0m\u001b[1;32m     61\u001b[0m         \u001b[0mself\u001b[0m\u001b[0;34m.\u001b[0m\u001b[0m_data\u001b[0m\u001b[0;34m[\u001b[0m\u001b[0mself\u001b[0m\u001b[0;34m.\u001b[0m\u001b[0m_front\u001b[0m\u001b[0;34m]\u001b[0m \u001b[0;34m=\u001b[0m \u001b[0;32mNone\u001b[0m  \u001b[0;31m# help garbage collection\u001b[0m\u001b[0;34m\u001b[0m\u001b[0;34m\u001b[0m\u001b[0m\n\u001b[1;32m     62\u001b[0m \u001b[0;34m\u001b[0m\u001b[0m\n",
      "\u001b[0;31mEmptyException\u001b[0m: Queue is empty"
     ]
    }
   ],
   "source": [
    "b.dequeue()"
   ]
  },
  {
   "cell_type": "markdown",
   "metadata": {},
   "source": [
    "# Double-Ended Queue (Deque)\n",
    "We next consider a queue-like data structure that supports insertion and deletion at both the front and the back of the queue. Such a structure is called a ***double-ended queue, or deque***, which is usally pronounced \"deck\" to avoid confusion with the dequeue method of the regular queue ADT, which is pronounced like the abbreviation \"D.Q.\"\n",
    "\n",
    "## The Deque Abstract Data Type (ADT)\n",
    "To provide a symmetrical abstraction, the deque ADT is defined so that deque D supports the following methods:\n",
    "\n",
    "| Mehod | Function |\n",
    "| --- | --- |\n",
    "| `D.add_first(e)` | Add element e to the fornt of deque **D**. |\n",
    "| `D.add_last(e)` | Add element e to the back of deque **D**. |\n",
    "| `e = D.delete_first()` | Remove and return the first element from deque **D**; an error occurs if the deque is empty. |\n",
    "| `e = D.delete_last()` | Remove and return the last element from deque **D**; an error occurs if the deque is empty. |\n",
    "\n",
    "Additionally, the deque ADT will include the following accessors:\n",
    "\n",
    "| Mehod | Function |\n",
    "| --- | --- |\n",
    "| `e = D.first()` | Return (but do not remove) the first element of deque **D**; an error occurs if the deque is empty. |\n",
    "| `e = D.last()` | Return (but do not remove) the last element of deque **D**; an error occurs if the deque is empty. |\n",
    "| `D.is_empty()` | Return `True` if deque **D** does not contain any elements. |\n",
    "| `len(D)` | Return the number of elements in deque **D**; in Python, we implement this with the special method `__len__`. |\n",
    "\n",
    "## HOMEWORK: Implement Deque using a Circular Array"
   ]
  }
 ],
 "metadata": {
  "kernelspec": {
   "display_name": "Python 3",
   "language": "python",
   "name": "python3"
  },
  "language_info": {
   "codemirror_mode": {
    "name": "ipython",
    "version": 3
   },
   "file_extension": ".py",
   "mimetype": "text/x-python",
   "name": "python",
   "nbconvert_exporter": "python",
   "pygments_lexer": "ipython3",
   "version": "3.7.4"
  }
 },
 "nbformat": 4,
 "nbformat_minor": 2
}
