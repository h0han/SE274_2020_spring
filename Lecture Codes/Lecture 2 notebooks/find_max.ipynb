{
 "cells": [
  {
   "cell_type": "markdown",
   "metadata": {},
   "source": [
    "# Random list generater\n",
    "generate_random_number_list(n) fundtion generates N random numbers between 0 -- 1,000,000,000"
   ]
  },
  {
   "cell_type": "code",
   "execution_count": 1,
   "metadata": {},
   "outputs": [],
   "source": [
    "import random\n",
    "\n",
    "def generate_random_number_list(n):\n",
    "    lst = []\n",
    "    for i in range(n):\n",
    "        lst.append(random.randrange(0, 1000000000))\n",
    "    return lst"
   ]
  },
  {
   "cell_type": "code",
   "execution_count": 2,
   "metadata": {},
   "outputs": [
    {
     "data": {
      "text/plain": [
       "[775013742,\n",
       " 838899964,\n",
       " 467659761,\n",
       " 964752423,\n",
       " 73284383,\n",
       " 837544825,\n",
       " 702083919,\n",
       " 42760325,\n",
       " 352321044,\n",
       " 272440831]"
      ]
     },
     "execution_count": 2,
     "metadata": {},
     "output_type": "execute_result"
    }
   ],
   "source": [
    "# example\n",
    "generate_random_number_list(10)"
   ]
  },
  {
   "cell_type": "markdown",
   "metadata": {},
   "source": [
    "# find_max algorithm analysis\n",
    "Check p23 in the textbook, or slide #39 in the lecture 2."
   ]
  },
  {
   "cell_type": "code",
   "execution_count": 3,
   "metadata": {},
   "outputs": [],
   "source": [
    "# Original function definition\n",
    "def find_max(data):\n",
    "    # it returns the maximum\n",
    "    biggest = data[0]\n",
    "    for val in data:\n",
    "        if val > biggest:\n",
    "            biggest = val\n",
    "    return biggest"
   ]
  },
  {
   "cell_type": "markdown",
   "metadata": {},
   "source": [
    "# Experimental Study\n",
    "In this section, we evaluate find_max experimentally, by varing the data size."
   ]
  },
  {
   "cell_type": "code",
   "execution_count": 4,
   "metadata": {},
   "outputs": [],
   "source": [
    "# Let's first import a timer\n",
    "from time import time"
   ]
  },
  {
   "cell_type": "code",
   "execution_count": null,
   "metadata": {},
   "outputs": [],
   "source": [
    "# Evaluate find_max for varying data sizes\n",
    "# Note: this will take some time\n",
    "\n",
    "data_sizes = []\n",
    "execution_time = []\n",
    "for data_size in range(1000, 100000, 1000):\n",
    "    data = generate_random_number_list(data_size)\n",
    "    \n",
    "    start_time = time()\n",
    "    find_max(data)\n",
    "    end_time = time()\n",
    "    elapsed = end_time - start_time\n",
    "    \n",
    "    data_sizes.append(data_size)\n",
    "    execution_time.append(elapsed)\n",
    "    \n",
    "print('DONE!')"
   ]
  },
  {
   "cell_type": "code",
   "execution_count": null,
   "metadata": {},
   "outputs": [],
   "source": [
    "# Plot the execution times on different data sizes\n",
    "\n",
    "import matplotlib.pyplot as plt\n",
    "\n",
    "fig = plt.figure()\n",
    "ax=fig.add_axes([0,0,1,1])\n",
    "ax.scatter(data_sizes, execution_time)\n",
    "ax.set_xlabel('Data size')\n",
    "ax.set_ylabel('Execution Time')\n",
    "ax.set_title('find_max')\n",
    "plt.show()"
   ]
  },
  {
   "cell_type": "markdown",
   "metadata": {},
   "source": [
    "# Asymptotic Analysis"
   ]
  },
  {
   "cell_type": "code",
   "execution_count": null,
   "metadata": {},
   "outputs": [],
   "source": [
    "# Counting the number of operations in find_max\n",
    "def find_max_counting(data):\n",
    "    counter = [0, 0, 0]   # This list will store the number of operations, initialized to zeros\n",
    "    \n",
    "    biggest = data[0]         #\n",
    "    counter[0]+=1             # OP 1 (assignment)\n",
    "    \n",
    "    for val in data:          #\n",
    "        counter[1]+=1         # OP 2 (loop over the data)\n",
    "        \n",
    "        if val > biggest:     # This if statement is evaluated the same times to OP 2\n",
    "\n",
    "            biggest = val     #\n",
    "            counter[2]+=1     # OP 3 (assignment inside a loop)\n",
    "            \n",
    "    return biggest, counter"
   ]
  },
  {
   "cell_type": "code",
   "execution_count": null,
   "metadata": {},
   "outputs": [],
   "source": [
    "# Evaluate find_max_counting for varying data sizes\n",
    "# Note: this will take some time\n",
    "\n",
    "data_sizes = []\n",
    "OP1 = []\n",
    "OP2 = []\n",
    "OP3 = []\n",
    "\n",
    "for data_size in range(1000, 100000, 1000):\n",
    "    data = generate_random_number_list(data_size)\n",
    "    \n",
    "    result = find_max_counting(data)\n",
    "    counted_ops = result[1]\n",
    "    \n",
    "    data_sizes.append(data_size)\n",
    "    OP1.append(counted_ops[0])\n",
    "    OP2.append(counted_ops[1])\n",
    "    OP3.append(counted_ops[2])\n",
    "    \n",
    "    print(f'{data_size}\\t{counted_ops}')\n",
    "    \n",
    "print('DONE!')"
   ]
  },
  {
   "cell_type": "code",
   "execution_count": null,
   "metadata": {},
   "outputs": [],
   "source": [
    "# Plot the # of operations on different data sizes\n",
    "\n",
    "import matplotlib.pyplot as plt\n",
    "\n",
    "fig = plt.figure()\n",
    "ax=fig.add_axes([0,0,1,1])\n",
    "ax.scatter(data_sizes, OP1, label='OP1')\n",
    "ax.scatter(data_sizes, OP2, label='OP2')\n",
    "ax.scatter(data_sizes, OP3, label='OP3')\n",
    "ax.set_xlabel('Data size')\n",
    "ax.set_ylabel('# of operations')\n",
    "ax.set_title('find_max Asymptotic analysis')\n",
    "plt.legend()\n",
    "plt.show()"
   ]
  },
  {
   "cell_type": "markdown",
   "metadata": {},
   "source": [
    "# Further Analysis of the algorithm\n",
    "\n",
    "A more interesting question about **find_max** is how many times we might update the current “biggest” value. \n",
    "\n",
    "In the worst case, if the data is given to us in increasing order, the biggest value is reassigned $n − 1$ times. \n",
    "\n",
    "But what if the input is given to us in random order, with all orders equally likely; what would be the expected number of times we update the biggest value in this case? \n",
    "\n",
    "To answer this question, note that we update the current biggest in an iteration of the loop only if the current element is bigger than all the elements that precede it. If the sequence is given to us in random order, the probability that the $j^{th}$ element is the largest of the first $j$ elements is $1/j$ (assuming uniqueness).\n",
    "\n",
    "Hence, the expected number of times we update the biggest (including initialization) is $$ H_n = \\sum^n_{j=1}{1/j}$$  which is known as the $n^{th}$ Harmonic number. It turns out that $H_n$ is $O(\\log n)$.\n",
    "\n",
    "Therefore, the expected number of times the biggest value is updated by find max on a randomly ordered sequence is $O(\\log n)$.\n",
    "\n",
    "Finally, the execution operation analysis will be result in:\n",
    "- OP1: Constant = $1$\n",
    "- OP2: Linear = $n$\n",
    "- OP3: Harmonic = $\\log n$\n",
    "- Total = $1 + n + \\log n$ = $O(n)$"
   ]
  },
  {
   "cell_type": "code",
   "execution_count": null,
   "metadata": {},
   "outputs": [],
   "source": []
  }
 ],
 "metadata": {
  "kernelspec": {
   "display_name": "Python 3",
   "language": "python",
   "name": "python3"
  },
  "language_info": {
   "codemirror_mode": {
    "name": "ipython",
    "version": 3
   },
   "file_extension": ".py",
   "mimetype": "text/x-python",
   "name": "python",
   "nbconvert_exporter": "python",
   "pygments_lexer": "ipython3",
   "version": "3.6.8"
  }
 },
 "nbformat": 4,
 "nbformat_minor": 2
}
