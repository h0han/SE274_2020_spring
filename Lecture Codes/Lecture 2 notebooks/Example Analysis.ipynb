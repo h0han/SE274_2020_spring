{
 "cells": [
  {
   "cell_type": "markdown",
   "metadata": {},
   "source": [
    "# Cheatsheet\n",
    "\n",
    "# 3.2 Seven Important Functions\n",
    "\n",
    "1. The Constant Function\n",
    "    $$f(n) = c$$\n",
    "2. The Logarithm Function\n",
    "    $$f(n) = \\log_b n$$\n",
    "3. The Linear Function\n",
    "    $$f(n) = n$$\n",
    "4. The N-Log-N Function\n",
    "    $$f(n) = n \\log n$$\n",
    "5. The Quadratic Function\n",
    "    $$f(n) = n^2$$\n",
    "6. The Cubic Function and Other Polynomials\n",
    "    $$f(n) = n^3$$\n",
    "    $$f(n) = a_0 + a_1n + a_2n^2 + a_3n^3 + \\cdots + a_dn^d$$    \n",
    "7. The Exponential Function\n",
    "    $$f(n) = b^n$$\n",
    "    \n",
    "    \n",
    "# 3.3 Asymptotic Analysis\n",
    "\n",
    "## 3.3.1 The \"Big-Oh\" Notation\n",
    "$$f(n) \\leq cg(n)\\text{,}\\quad\\text{for }n \\geq n_0$$\n",
    "\n",
    "### Exercises (=find the suitable $c$ and $n_0$ for each case)\n",
    "1. Justify $5n^2 + 3n\\log n + 2n + 5$ is $O(n^2)$.\n",
    "1. Justify $20n^3 + 10n\\log n + 5$ is $O(n^3)$.\n",
    "1. Justify $3 \\log n + 2$ is $O(\\log n)$.\n",
    "1. Justify $2^{n+2}$ is $O(2^n)$.\n",
    "1. Justify $2n + 100 \\log n$ is $O(n)$.\n",
    "\n",
    "## 3.3.2 Comparative Analysis\n",
    "The seven functions are ordered by increasing growth rate in following sequence:\n",
    "$$ 1 \\quad<\\quad \\log n \\quad<\\quad n \\quad<\\quad n\\log n \\quad<\\quad n^2 \\quad<\\quad n^3 \\quad<\\quad 2^n$$"
   ]
  },
  {
   "cell_type": "code",
   "execution_count": 1,
   "metadata": {},
   "outputs": [
    {
     "data": {
      "text/plain": [
       "<Figure size 640x480 with 1 Axes>"
      ]
     },
     "metadata": {},
     "output_type": "display_data"
    },
    {
     "data": {
      "text/plain": [
       "<Figure size 1000x500 with 1 Axes>"
      ]
     },
     "metadata": {},
     "output_type": "display_data"
    }
   ],
   "source": [
    "import matplotlib as plt\n",
    "import math\n",
    "\n",
    "size = []\n",
    "const = []\n",
    "logn = []\n",
    "n = []\n",
    "nlogn = []\n",
    "nquad = []\n",
    "ncub = []\n",
    "exp = []\n",
    "\n",
    "for i in range(1,100):\n",
    "    size.append(i)\n",
    "    const.append(1)\n",
    "    logn.append(math.log(i,2))\n",
    "    n.append(i)\n",
    "    nlogn.append(i*math.log(i,2))\n",
    "    nquad.append(i**2)\n",
    "    ncub.append(i**3)\n",
    "    exp.append(2**i)\n",
    "    \n",
    "import matplotlib.pyplot as plt\n",
    "\n",
    "fig = plt.figure()\n",
    "ax=fig.add_axes([0,0,1,1])\n",
    "ax.set_xlabel('Data size')\n",
    "ax.set_ylabel('growth rate')\n",
    "ax.set_title('Comparative Analysis')\n",
    "plt.plot(size, const, label='Constant')\n",
    "plt.plot(size, logn, label='Logarithm')\n",
    "plt.plot(size, n, label='Linear')\n",
    "plt.plot(size, nlogn, label='N-Log-N')\n",
    "plt.plot(size, nquad, label='Quadratic')\n",
    "plt.plot(size, ncub, label='Cubic')\n",
    "plt.plot(size, exp, label='Exponential')\n",
    "plt.legend()\n",
    "plt.show()\n",
    "\n",
    "fig = plt.figure(figsize=(10,5))\n",
    "ax=fig.add_axes([0,0,1,1])\n",
    "ax.set_xlabel('Data size')\n",
    "ax.set_ylabel('growth rate')\n",
    "ax.set_ylim([0,2000])\n",
    "ax.set_title('Comparative Analysis (Zoom-in)')\n",
    "plt.plot(size, const, label='Constant')\n",
    "plt.plot(size, logn, label='Logarithm')\n",
    "plt.plot(size, n, label='Linear')\n",
    "plt.plot(size, nlogn, label='N-Log-N')\n",
    "plt.plot(size, nquad, label='Quadratic')\n",
    "plt.plot(size, ncub, label='Cubic')\n",
    "plt.plot(size, exp, label='Exponential')\n",
    "plt.legend()\n",
    "plt.show()"
   ]
  },
  {
   "cell_type": "markdown",
   "metadata": {},
   "source": [
    "### What makes a better algorithm?\n",
    "Supposee two algorithms solving the same problem are available: an algorithm $A$, which has a running time of $O(n)$, and an algorithm $B$, which has a running time of $O(n^2)$. Which algorithm is better? We know that $n$ is $O(n^2)$, which implies that algorithm $A$ is **asymptotically better** than algorithm $B$, although for a small value of $n$, $B$ may have a lower running time than A.\n",
    "\n",
    "#### CAUTION!\n",
    "In general, a lower-order algorithm is faster than a higher-order algorithm. However, be aware about the hiding VERY LARGE low-order terms.\n",
    "\n",
    "For example, let's consider comparing those two functions:\n",
    "\n",
    "$$\\text{Algorithm A's Running Time} = 10^{100}$$\n",
    "$$\\text{Algorithm B's Running Time} = 3n\\log(n)+5n$$\n",
    "\n",
    "Even though the Algorithm A is $O(1)$, which is constant, and the algorithm B is $O(n\\log n)$, Algorithm B may be better. For a problem size less than a million, Algorithm B takes less than a billion running time, while the Algorithm A takes **one googol** time to run it."
   ]
  },
  {
   "cell_type": "code",
   "execution_count": 2,
   "metadata": {},
   "outputs": [
    {
     "name": "stdout",
     "output_type": "stream",
     "text": [
      "64794705.70797252\n"
     ]
    }
   ],
   "source": [
    "# The running time of problem B, at 10k problem size:\n",
    "n=1000000\n",
    "print(3*n*math.log(n,2)+5*n)"
   ]
  },
  {
   "cell_type": "markdown",
   "metadata": {},
   "source": [
    "Therefore, be aware your context!\n",
    "\n",
    "However, still, an exponential algorithm is almost never good."
   ]
  },
  {
   "cell_type": "markdown",
   "metadata": {},
   "source": [
    "## 3.3.3 Example Analysis\n",
    "### A general procedure for an algorithm analysis\n",
    "1. Identify primitive operations (formally, a low-level instruction running on a processing unit), for example:\n",
    "```python\n",
    "a = 3        # Assigning an identifier\n",
    "b = a        # Determining the object associated with an identifier\n",
    "3+5          # Arithmetic operation\n",
    "if (6 < a):  # Comparing two numbers\n",
    "elem[522]    # Accessing a single element of a Python list by index\n",
    "your_func()  # Calling a function (excluding the operations within the function)\n",
    "return b     # Returning from a function\n",
    "```\n",
    "1. Write down the pseudo-code.\n",
    "1. Identify what is the input of the algorithm, call its size as $n$.\n",
    "1. Focus on the Worst-Case Input.\n",
    "1. Count the number of executions of the primitive operations.\n",
    "\n",
    "1. Express the function with Big-Oh notation, saying **this algorithm** runs in $O(n)$, or whatever, time."
   ]
  },
  {
   "cell_type": "markdown",
   "metadata": {},
   "source": [
    "### Some Rule-Of-Thumb\n",
    "#### The Constant Function: $f(n) = c$\n",
    "Any primitive operations outside a loop runs in constant time.\n",
    "    \n",
    "#### The Logarithm Function: $f(n) = \\log_b n$\n",
    "Some special case of iteration runs in logarithm time, for example, searching for an item within a sorted list.\n",
    "\n",
    "#### The Linear Function: $f(n) = n$\n",
    "In general, scan thorough a list (=regualr for-loop) runs in linear time.\n",
    "\n",
    "#### The N-Log-N Function: $f(n) = n \\log n$\n",
    "When combining some harmonic-number operations within a loop iterates over the entire item, it runs in N-Log-N time.\n",
    "\n",
    "#### The Quadratic Function: $f(n) = n^2$, Cubic Function:$f(n) = n^3$, and Other Polynomials: $f(n) = a_0 + a_1n + a_2n^2 + a_3n^3 + \\cdots + a_dn^d$\n",
    "Nested loops runs in quadratic, cubic, and polynomial times, depend on the number of the loops and iterations.\n",
    "\n",
    "#### The Exponential Function: $f(n) = b^n$\n",
    "When searching for the every possible combinations of a set, it runs in exponential time.\n",
    "For example, searching for an unknown password."
   ]
  },
  {
   "cell_type": "markdown",
   "metadata": {},
   "source": [
    "## Prefix Averages\n",
    "Prefix average $A[j]$ = *the average of the first J items in the list S*, defined as:\n",
    "$$A[j]=\\frac{\\sum^j_{i=0}s[i]}{j+1}$$"
   ]
  },
  {
   "cell_type": "markdown",
   "metadata": {},
   "source": [
    "### prefix_average1 (Quadratic)"
   ]
  },
  {
   "cell_type": "code",
   "execution_count": 3,
   "metadata": {},
   "outputs": [
    {
     "name": "stdout",
     "output_type": "stream",
     "text": [
      "[97, 34, 74, 23, 88]\n",
      "[97.0, 65.5, 68.33333333333333, 57.0, 63.2]\n"
     ]
    }
   ],
   "source": [
    "def prefix_average1(S):\n",
    "    # Return list such that, for all j, A[j] equals average of S[0], ..., S[j].\n",
    "    n = len(S)\n",
    "    A = [0] * n\n",
    "    for j in range(n):\n",
    "        total = 0\n",
    "        for i in range(j + 1):\n",
    "            total += S[i]\n",
    "        A[j] = total / (j+1)\n",
    "    return A\n",
    "\n",
    "\n",
    "# Execution DEMO\n",
    "import random\n",
    "list_S = random.sample(range(0,100), 5)\n",
    "print(list_S)\n",
    "\n",
    "AVG1 = prefix_average1(list_S)\n",
    "print(AVG1)"
   ]
  },
  {
   "cell_type": "markdown",
   "metadata": {},
   "source": [
    "### prefix_average2 (Quadratic)"
   ]
  },
  {
   "cell_type": "code",
   "execution_count": 4,
   "metadata": {},
   "outputs": [
    {
     "name": "stdout",
     "output_type": "stream",
     "text": [
      "[97, 34, 74, 23, 88]\n",
      "[97.0, 65.5, 68.33333333333333, 57.0, 63.2]\n"
     ]
    }
   ],
   "source": [
    "def prefix_average2(S):\n",
    "    # Return list such that, for all j, A[j] equals average of S[0], ..., S[j].\n",
    "    n = len(S)\n",
    "    A = [0] * n\n",
    "    for j in range(n):\n",
    "        A[j] = sum(S[0:j+1]) / (j+1)\n",
    "    return A\n",
    "\n",
    "# Execution DEMO\n",
    "print(list_S)\n",
    "\n",
    "AVG2 = prefix_average2(list_S)\n",
    "print(AVG2)"
   ]
  },
  {
   "cell_type": "markdown",
   "metadata": {},
   "source": [
    "#### Execution Time Analysis\n",
    "\n",
    "```python\n",
    "def prefix_average1(S):\n",
    "    # Return list such that, for all j, A[j] equals average of S[0], ..., S[j].\n",
    "    n = len(S)                    # 1\n",
    "    A = [0] * n                   # n\n",
    "    for j in range(n):            # n\n",
    "        total = 0                   # n * 1\n",
    "        for i in range(j + 1):      # 1+2+3+4+..+n = n(n+1)/2 => O(n^2)\n",
    "            total += S[i]             # n(n+1)/2\n",
    "        A[j] = total / (j+1)        # n\n",
    "    return A\n",
    "```\n",
    "$\\sum = O(n^2)$\n",
    "\n",
    "```python\n",
    "def prefix_average2(S):\n",
    "    # Return list such that, for all j, A[j] equals average of S[0], ..., S[j].\n",
    "    n = len(S)                    # 1\n",
    "    A = [0] * n                   # n\n",
    "    for j in range(n):            # n\n",
    "        A[j] = sum(S[0:j+1]) / (j+1)  # n * sum() = 1+2+3+... +n = n(n+1)/2 => O(n^2)\n",
    "    return A\n",
    "```\n",
    "$\\sum = O(n^2)$"
   ]
  },
  {
   "cell_type": "markdown",
   "metadata": {},
   "source": [
    "### prefix_average3 (Linear)"
   ]
  },
  {
   "cell_type": "code",
   "execution_count": 5,
   "metadata": {},
   "outputs": [
    {
     "name": "stdout",
     "output_type": "stream",
     "text": [
      "[97, 34, 74, 23, 88]\n",
      "[97.0, 65.5, 68.33333333333333, 57.0, 63.2]\n"
     ]
    }
   ],
   "source": [
    "def prefix_average3(S):\n",
    "    # Return list such that, for all j, A[j] equals average of S[0], ..., S[j].\n",
    "    n = len(S)\n",
    "    A = [0] * n\n",
    "    total = 0\n",
    "    for j in range(n):\n",
    "        total += S[j]\n",
    "        A[j] = total / (j+1)\n",
    "    return A\n",
    "\n",
    "# Execution DEMO\n",
    "print(list_S)\n",
    "\n",
    "AVG3 = prefix_average3(list_S)\n",
    "print(AVG3)"
   ]
  },
  {
   "cell_type": "markdown",
   "metadata": {},
   "source": [
    "#### Execution Time Analysis\n",
    "\n",
    "```python\n",
    "def prefix_average3(S):\n",
    "    # Return list such that, for all j, A[j] equals average of S[0], ..., S[j].\n",
    "    n = len(S)                    # 1\n",
    "    A = [0] * n                   # n\n",
    "    total = 0                     # 1\n",
    "    for j in range(n):            # n\n",
    "        total += S[j]             # n * 1\n",
    "        A[j] = total / (j+1)      # n * 1\n",
    "    return A\n",
    "```\n",
    "$\\sum = O(n)$"
   ]
  },
  {
   "cell_type": "markdown",
   "metadata": {},
   "source": [
    "# Exercise\n",
    "\n",
    "## Three-Way Set Disjointness\n",
    "Suppose we are given three sequences of numbers, $A, B$ and $C$. We will assume that no individual sequence contains duplicate values, but that there may be some numbers that are in two or three of the sequences.\n",
    "The **three-way set disjointness** problem is to determine if the intersection of the three sequences is empty, namely, that there is no element $x$ such that $x \\in A, x \\in B$ and $x \\in C$.\n",
    "\n",
    "```python\n",
    "def disjoint1(A, B, D):\n",
    "    for a in A:\n",
    "        for b in B:\n",
    "            for c in C:\n",
    "                if a == b == c:\n",
    "                    return False\n",
    "    return True\n",
    "```\n",
    "\n",
    "```python\n",
    "def disjoint2(A, B, D):\n",
    "    for a in A:\n",
    "        for b in B:\n",
    "            if a == b:\n",
    "                for c in C:\n",
    "                    if a == c:\n",
    "                        return False\n",
    "    return True\n",
    "```\n",
    "\n",
    "***==> Task 1: Explain the working principles of ``disjoint1`` and ``disjoint2`` algorithms.***\n",
    "\n",
    "***==> Task 2: Analyze the algorithm running time and express it using Big-Oh notation.***"
   ]
  },
  {
   "cell_type": "code",
   "execution_count": 6,
   "metadata": {},
   "outputs": [
    {
     "name": "stdout",
     "output_type": "stream",
     "text": [
      "[2, 8, 6, 1, 7]\n",
      "[1, 5, 3, 2, 4]\n",
      "[5, 2, 0, 6, 9]\n",
      "False\n",
      "False\n"
     ]
    }
   ],
   "source": [
    "# DEMO\n",
    "def disjoint1(A, B, C):\n",
    "    for a in A:\n",
    "        for b in B:\n",
    "            for c in C:\n",
    "                if a == b == c:\n",
    "                    return False\n",
    "    return True\n",
    "\n",
    "def disjoint2(A, B, C):\n",
    "    for a in A:\n",
    "        for b in B:\n",
    "            if a == b:\n",
    "                for c in C:\n",
    "                    if a == c:\n",
    "                        return False\n",
    "    return True\n",
    "\n",
    "A = random.sample(range(0,10), 5)\n",
    "B = random.sample(range(0,10), 5)\n",
    "C = random.sample(range(0,10), 5)\n",
    "print(A)\n",
    "print(B)\n",
    "print(C)\n",
    "\n",
    "print(disjoint1(A,B,C))\n",
    "print(disjoint2(A,B,C))"
   ]
  },
  {
   "cell_type": "markdown",
   "metadata": {},
   "source": [
    "## Element Uniqueness\n",
    "We are given a single sequence S with n elements and asked whether all elements of that collection are distinct from each other.\n",
    "\n",
    "```python\n",
    "def unique1(S):\n",
    "    for j in range(len(S)):\n",
    "        for k in range(j+1, len(S)):\n",
    "            if S[j] == S[k]:\n",
    "                return False\n",
    "    return True\n",
    "```\n",
    "\n",
    "```python\n",
    "def unique2(S):\n",
    "    temp = sorted(S)\n",
    "    for j in range(1, len(temp)):\n",
    "        if S[j-1] == S[j]:\n",
    "            return False\n",
    "    return True\n",
    "```\n",
    "\n",
    "***==> Task 1: Explain the working principle of ``unique1`` and ``unique2`` algorithms.***\n",
    "\n",
    "***==> Task 2: Analyze the algorithm running time and express it using Big-Oh notation.***"
   ]
  },
  {
   "cell_type": "code",
   "execution_count": 7,
   "metadata": {},
   "outputs": [
    {
     "name": "stdout",
     "output_type": "stream",
     "text": [
      "[1, 0, 13, 2, 7]\n",
      "True\n",
      "True\n"
     ]
    }
   ],
   "source": [
    "# DEMO\n",
    "def unique1(S):\n",
    "    for j in range(len(S)):\n",
    "        for k in range(j+1, len(S)):\n",
    "            if S[j] == S[k]:\n",
    "                return False\n",
    "    return True\n",
    "\n",
    "def unique2(S):\n",
    "    temp = sorted(S)\n",
    "    for j in range(1, len(temp)):\n",
    "        if temp[j-1] == temp[j]:\n",
    "            return False\n",
    "    return True\n",
    "\n",
    "A = []\n",
    "for i in range(5):\n",
    "    A.append(random.randrange(15))\n",
    "print(A)\n",
    "\n",
    "print(unique1(A))\n",
    "print(unique2(A))"
   ]
  },
  {
   "cell_type": "code",
   "execution_count": null,
   "metadata": {},
   "outputs": [],
   "source": []
  }
 ],
 "metadata": {
  "kernelspec": {
   "display_name": "Python 3",
   "language": "python",
   "name": "python3"
  },
  "language_info": {
   "codemirror_mode": {
    "name": "ipython",
    "version": 3
   },
   "file_extension": ".py",
   "mimetype": "text/x-python",
   "name": "python",
   "nbconvert_exporter": "python",
   "pygments_lexer": "ipython3",
   "version": "3.6.8"
  }
 },
 "nbformat": 4,
 "nbformat_minor": 2
}
