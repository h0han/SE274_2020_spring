{
 "cells": [
  {
   "cell_type": "code",
   "execution_count": null,
   "metadata": {},
   "outputs": [],
   "source": [
    "#A4 - Linked List (5+1 points)"
   ]
  },
  {
   "cell_type": "markdown",
   "metadata": {},
   "source": [
    "#A4-1(1 point)\n",
    "singly_linked_list의 경우, x와 y를 swap하는 과정에서 x의 previous node와 y의 previous node를 모두 알아야 한다. 이 과정에서 각각의 previous node를 찾기 위해 O(n) time이 소요된다. 반면 doubly_linked_list의 경우 x와 y의 previous 노트 탐색을 O(1) time에 수행 가능하다.(모든 node가 previous_node_field와 next_node_field를 갖고 있기 때문) 띠라서 singly_linked_list의 작업 소요 시간이 더 길다."
   ]
  },
  {
   "cell_type": "code",
   "execution_count": 8,
   "metadata": {},
   "outputs": [],
   "source": [
    "#A4-2(1 point)\n",
    "from positional_list import PositionalList \n",
    "class personal_PL_2(PositionalList):\n",
    "    def __reversed__(self):\n",
    "        cursor = self.last()\n",
    "        while cursor is not None:\n",
    "            yield cursor.element()\n",
    "            cursor = self.before(cursor)"
   ]
  },
  {
   "cell_type": "code",
   "execution_count": 13,
   "metadata": {},
   "outputs": [],
   "source": [
    "#A4-3(1 point)\n",
    "from positional_list import PositionalList\n",
    "class personal_PL(PositionalList):\n",
    "    def add_last(self, elem):\n",
    "        if self.is_empty() == True: #리스트가 비어있으면\n",
    "            return self.add_first(elem) #header 노드 뒤에 elem 삽입\n",
    "        else:\n",
    "            last = self.last()\n",
    "            return self.add_after(last, elem)\n",
    "        \n",
    "    def add_before(self, pos, elem):\n",
    "        if self.is_empty() == True:\n",
    "            return self.add_first(elem)\n",
    "        else:\n",
    "            before_node = self.before(pos) #pos 이전 node를 before_node에 할당\n",
    "            if before_node == None:\n",
    "                return self.add_first(elem)\n",
    "            else:\n",
    "                return self.add_after(before_node, elem) #before_node의 다음 node에 elem 삽입\n",
    "    \n",
    "#     def display(self, message = ''):\n",
    "#         count = 0\n",
    "#         print(message, end = '')\n",
    "#         node = self._header\n",
    "#         while True:\n",
    "#             if node._element == None:\n",
    "#                 count += 1\n",
    "#             if count == 2:\n",
    "#                 print(node._element)\n",
    "#                 break\n",
    "#             else:\n",
    "#                 print(node._element, end=' - ')\n",
    "#                 node = node._next"
   ]
  },
  {
   "cell_type": "code",
   "execution_count": null,
   "metadata": {},
   "outputs": [],
   "source": [
    "#A4-4(1 point)\n",
    "from positional_list import PositionalList\n",
    "class personal_PL_4(PositionalList):\n",
    "    def max(self):\n",
    "        k = 0\n",
    "        iterator = iter(self)\n",
    "        for i in iterator:\n",
    "            if type(i) != int or type(i) != float:\n",
    "                raise TypeError('Check your element type')\n",
    "            else:\n",
    "                if k < i:\n",
    "                    k = i\n",
    "        return k"
   ]
  },
  {
   "cell_type": "code",
   "execution_count": 29,
   "metadata": {},
   "outputs": [],
   "source": [
    "#A4-5(1 point)\n",
    "from positional_list import PositionalList \n",
    "class personal_PL_5(PositionalList):\n",
    "    def find(self, elem):\n",
    "        iterator = iter(self)\n",
    "        for i in iterator:\n",
    "            if elem == i:\n",
    "                return self._make_position(i)\n",
    "            else:\n",
    "                return None"
   ]
  },
  {
   "cell_type": "code",
   "execution_count": null,
   "metadata": {},
   "outputs": [],
   "source": [
    "#A4-Bonus(1 point)\n",
    "from positional_list import PositionalList \n",
    "class personal_PL_B(PositionalList):\n",
    "    walk = self.first()\n",
    "    def find(self, elem):\n",
    "        if self.is_empty():\n",
    "            raise EmptyError('The list is empty')\n",
    "        else:\n",
    "            if self.first().element() == elem:\n",
    "                return self._make_position(walk.element())\n",
    "            else:\n",
    "                walk = self.after(walk)\n",
    "                if walk.element() == elem:\n",
    "                    return self._make_position(walk)\n",
    "                else:\n",
    "                    return self.find(self.element())"
   ]
  },
  {
   "cell_type": "markdown",
   "metadata": {},
   "source": [
    "L의 capacity를 n이라 하면, 위 함수는 L에서 elem을 탐색하기 위해 n번의 재귀호출이 필요하다. 이는 새로 생성되는 space가 n번 생성되는 뜻과 상통하고, 따라서 공간복잡도는 O(n)이 된다."
   ]
  },
  {
   "cell_type": "code",
   "execution_count": null,
   "metadata": {},
   "outputs": [],
   "source": [
    "#A5 - Trees (7 points)"
   ]
  },
  {
   "cell_type": "markdown",
   "metadata": {},
   "source": [
    "#A5-1(1 point)\n",
    "1. /user/rt/courses/\n",
    "2. /user/rt/courses/, cs016/, homeworks/, programs/, cs252/, projects/, papers/, /demos/\n",
    "3. cs016/ has 9 decendants.\n",
    "4. It has only 1 ancestor.(//user/rt/courses/)\n",
    "5. Its sibilings are grades/ and programs/.\n",
    "6. papers/ and demos/\n",
    "7. 3\n",
    "8. 4"
   ]
  },
  {
   "cell_type": "markdown",
   "metadata": {},
   "source": [
    "#A5-2 (1 point)\n",
    "      E      \n",
    "     / \\\n",
    "    X   N\n",
    "   / \\\n",
    "  A   U\n",
    " / \\\n",
    "M   F"
   ]
  },
  {
   "cell_type": "code",
   "execution_count": null,
   "metadata": {},
   "outputs": [],
   "source": [
    "#A5-3 (2 points)\n",
    "def root():\n",
    "    for node in T:\n",
    "        if f(node) == 0:\n",
    "            return node\n",
    "        \n",
    "def is_root(p):\n",
    "    return f(p) == 0\n",
    "\n",
    "def parent(p):\n",
    "    if f(p) % 2 == 0:\n",
    "        for node in T:\n",
    "            return T[(f(p))/2-1]\n",
    "    elif f(p) % 2 == 1:\n",
    "        for node in T:\n",
    "            return T[(f(p)-1)/2]\n",
    "        \n",
    "def left(p):\n",
    "    for node in T:\n",
    "        if node == parent(T[2*f(p)+1]):\n",
    "            return node\n",
    "        else:\n",
    "            return None\n",
    "\n",
    "def right(p):\n",
    "    for node in T:\n",
    "        if node == parent(T[2*f(p)+2]):\n",
    "            return node\n",
    "        else:\n",
    "            return None\n",
    "\n",
    "def is_leaf(p):\n",
    "    if left(p) != None or right(p) != None:\n",
    "        False\n",
    "    else:\n",
    "        True"
   ]
  },
  {
   "cell_type": "code",
   "execution_count": 139,
   "metadata": {},
   "outputs": [],
   "source": [
    "#A5-4 (3 points)\n",
    "from linked_binary_tree import LinkedBinaryTree \n",
    "class personal_LBP(LinkedBinaryTree):\n",
    "    def _delete_subtree(self, p):\n",
    "        if self.num_children(p) != 0:\n",
    "            for child in self.children(p):\n",
    "                self._delete_subtree(child)\n",
    "            return self._delete(child)\n",
    "        else:\n",
    "            return self._delete(p)\n",
    "\n",
    "running time의 경우, O(n) time이 소요된다."
   ]
  },
  {
   "cell_type": "code",
   "execution_count": 1,
   "metadata": {},
   "outputs": [],
   "source": [
    "#A6 - Priority Queues, Heaps (8+2 points)"
   ]
  },
  {
   "cell_type": "markdown",
   "metadata": {},
   "source": [
    "#A6-1 (1 point)\n",
    "heap에서의 remove_min 실행의 시간복잡도는 O(log(n))이다. 그런데, 문제에서 removing smallest elements의 횟수를 log(n)이라 지정하였으므로, 총 시간복잡도는 O((log(n))^2)이다."
   ]
  },
  {
   "cell_type": "code",
   "execution_count": null,
   "metadata": {},
   "outputs": [],
   "source": [
    "#A6-2 (1 point)\n",
    "1. remove_min()\n",
    "In PQ: [(1, D), (4, B), (5, A), (7, F)] -> (1, D)\n",
    "2. remove_min()\n",
    "In PQ: [(3, j), (4, B), (5, A), (6, L), (7, F)] -> (3, j)\n",
    "3. remove_min()\n",
    "In PQ: [(4, B), (5, A), (6, L), (7, F)] -> (4, B)\n",
    "4. remove_min()\n",
    "In PQ: [(5, A), (6, L), (7, F), (8, G)] -> (5, A)\n",
    "5. remove_min()\n",
    "In PQ: [(2, H), (6, L), (7, F), (8, G)] -> (2, H)\n",
    "6. remove_min()\n",
    "In PQ: [(6, L), (7, F), (8, G)] -> (6, L)\n",
    "\n",
    "Result: (1, D), (3, j), (4, B), (5, A), (2, H), (6, L)"
   ]
  },
  {
   "cell_type": "markdown",
   "metadata": {},
   "source": [
    "#A6-3 (1 point)\n",
    "Priority Queue\n",
    "future event를 추가하고, time stamp가 가장 낮은 것부터 extract 해야한다. 따라서 key값의 우선순위를 비교하여 pop하는 priority queue의 구조와 흡사하다."
   ]
  },
  {
   "cell_type": "code",
   "execution_count": null,
   "metadata": {},
   "outputs": [],
   "source": [
    "#A6-4 (1 point)\n",
    "<Selection sort>\n",
    "Input: Sequence: (22, 15, 36, 44, 10, 3, 9, 13, 29, 25) Queue: ()\n",
    "Phase1\n",
    "a. S: (15, 36, 44, 10, 3, 9, 13, 29, 25) Q: (22)\n",
    "b. S: (36, 44, 10, 3, 9, 13, 29, 25) Q: (22, 15)\n",
    "...\n",
    "j. S: () Q: (22, 15, 36, 44, 10, 3, 9, 13, 29, 25)\n",
    "\n",
    "Phase2\n",
    "a. S: (3) Q: (22, 15, 36, 44, 10, 9, 13, 29, 25)\n",
    "b. S: (3, 9) Q: (22, 15, 36, 44, 10, 13, 29, 25)\n",
    "c. S: (3, 9, 10) Q: (22, 15, 36, 44, 13, 29, 25)\n",
    "d. S: (3, 9, 10, 13) Q: (22, 15, 36, 44, 29, 25)\n",
    "e. S: (3, 9, 10, 13, 15) Q: (22, 36, 44, 29, 25)\n",
    "f. S: (3, 9, 10, 13, 15, 22) Q: (36, 44, 29, 25)\n",
    "g. S: (3, 9, 10, 13, 15, 22, 25) Q: (36, 44, 29)\n",
    "h. S: (3, 9, 10, 13, 15, 22, 25, 29) Q: (36, 44)\n",
    "i. S: (3, 9, 10, 13, 15, 22, 25, 29, 36) Q: (44)\n",
    "j. S: (3, 9, 10, 13, 15, 22, 25, 29, 36, 44) Q: ()"
   ]
  },
  {
   "cell_type": "code",
   "execution_count": null,
   "metadata": {},
   "outputs": [],
   "source": [
    "#A6-5 (1 point)\n",
    "<Insertino sort>\n",
    "Input: Sequence: (22, 15, 36, 44, 10, 3, 9, 13, 29, 25)\tPriority Queue: ()\n",
    "Phase1\n",
    "a. S: (15, 36, 44, 10, 3, 9, 13, 29, 25) Q: (22)\n",
    "b. S: (36, 44, 10, 3, 9, 13, 29, 25) Q: (15, 22) \n",
    "c. S: (44, 10, 3, 9, 13, 29, 25) Q: (15, 22, 36)\n",
    "d. S: (10, 3, 9, 13, 29, 25) Q: (15, 22, 36, 44)\n",
    "e. S: (3, 9, 13, 29, 25) Q: (10, 15, 22, 36, 44)\n",
    "f. S: (9, 13, 29, 25) Q: (3, 10, 15, 22, 36, 44)\n",
    "g. S: (13, 29, 25) Q: (3, 9, 10, 15, 22, 36, 44)\n",
    "h. S: (29, 25) Q: (3, 9, 10, 13, 15, 22, 36, 44)\n",
    "i. S: (25) Q: (3, 9, 10, 13, 15, 22, 29, 36, 44)\n",
    "j. S: () Q: (3, 9, 10, 13, 15, 22, 25, 29, 35, 44)\n",
    "\n",
    "Phadse2\n",
    "a. S: (3) Q: (9, 10, 13, 15, 22, 25, 29, 35, 44)\n",
    "b. S: (3, 9) Q: (10, 13, 15, 22, 25, 29, 35, 44)\n",
    "…\n",
    "j. S: (3, 9, 10, 13, 15, 22, 25, 29, 35, 44) Q: ()"
   ]
  },
  {
   "cell_type": "code",
   "execution_count": null,
   "metadata": {},
   "outputs": [],
   "source": [
    "#A6-6 (3 points)\n",
    "from heap_priority_queue import HeapPriorityQueue \n",
    "class heapq(HeapPriorityQueue):\n",
    "    def heappushpop(self, elem):\n",
    "        self.add(elem[0], elem[1]) #elem의 key, value쌍 입력\n",
    "        return self.remove_min() #downheap의 경우 remove_min에서 자동으로 수행\n",
    "    \n",
    "    def heapreplace(self, elem):\n",
    "        show = self.remove_min() #조건에 맞추어 새로운 element가 add되기 전 최솟값을 추출\n",
    "        self.add(elem[0], elem[1])\n",
    "        return show"
   ]
  },
  {
   "cell_type": "code",
   "execution_count": null,
   "metadata": {},
   "outputs": [],
   "source": [
    "#A6-Bonus (2 points)\n",
    "from heap_priority_queue import HeapPriorityQueue\n",
    "class personal_HPQ(HeapPriorityQueue):\n",
    "    def upheap(self, i): #upheap과 downheap을 문제 조건에 맞게 재구성\n",
    "        parent = self._parent(i)\n",
    "        if i > 0 and self._data[i] > self._data[parent]:\n",
    "            self._swap(i, parent)\n",
    "            self._upheap(parent)\n",
    "            \n",
    "    def downheap(self, j):\n",
    "        if self._has_left(j):\n",
    "            left = self.left(j)\n",
    "            big_child = left\n",
    "            if self._has_right(j):\n",
    "                right = self._right(j)\n",
    "                if self._data[right] > self._data[left]:\n",
    "                    big_child = right\n",
    "            if self._data[big_child] > self._data[j]:\n",
    "                self.swap(j, big_child)\n",
    "                self.dowmheap(big_child)\n",
    "    \n",
    "    def heapsort(a):\n",
    "        heap = personal_HPQ()\n",
    "        for key in a:\n",
    "            heap.add(key, 'value')\n",
    "        for i in range(len(a)):\n",
    "            return self.remove_min()"
   ]
  }
 ],
 "metadata": {
  "kernelspec": {
   "display_name": "Python 3",
   "language": "python",
   "name": "python3"
  },
  "language_info": {
   "codemirror_mode": {
    "name": "ipython",
    "version": 3
   },
   "file_extension": ".py",
   "mimetype": "text/x-python",
   "name": "python",
   "nbconvert_exporter": "python",
   "pygments_lexer": "ipython3",
   "version": "3.7.4"
  }
 },
 "nbformat": 4,
 "nbformat_minor": 2
}
