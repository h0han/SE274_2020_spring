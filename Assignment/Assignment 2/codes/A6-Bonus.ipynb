{
 "cells": [
  {
   "cell_type": "code",
   "execution_count": null,
   "metadata": {},
   "outputs": [],
   "source": [
    "#A6-Bonus (2 points)\n",
    "from heap_priority_queue import HeapPriorityQueue\n",
    "class personal_HPQ(HeapPriorityQueue):\n",
    "    def upheap(self, i): #upheap과 downheap을 문제 조건에 맞게 재구성\n",
    "        parent = self._parent(i)\n",
    "        if i > 0 and self._data[i] > self._data[parent]:\n",
    "            self._swap(i, parent)\n",
    "            self._upheap(parent)\n",
    "            \n",
    "    def downheap(self, j):\n",
    "        if self._has_left(j):\n",
    "            left = self.left(j)\n",
    "            big_child = left\n",
    "            if self._has_right(j):\n",
    "                right = self._right(j)\n",
    "                if self._data[right] > self._data[left]:\n",
    "                    big_child = right\n",
    "            if self._data[big_child] > self._data[j]:\n",
    "                self.swap(j, big_child)\n",
    "                self.dowmheap(big_child)\n",
    "    \n",
    "    def heapsort(a):\n",
    "        heap = personal_HPQ()\n",
    "        for key in a:\n",
    "            heap.add(key, 'value')\n",
    "        for i in range(len(a)):\n",
    "            return self.remove_min()"
   ]
  }
 ],
 "metadata": {
  "kernelspec": {
   "display_name": "Python 3",
   "language": "python",
   "name": "python3"
  },
  "language_info": {
   "codemirror_mode": {
    "name": "ipython",
    "version": 3
   },
   "file_extension": ".py",
   "mimetype": "text/x-python",
   "name": "python",
   "nbconvert_exporter": "python",
   "pygments_lexer": "ipython3",
   "version": "3.7.4"
  }
 },
 "nbformat": 4,
 "nbformat_minor": 2
}
