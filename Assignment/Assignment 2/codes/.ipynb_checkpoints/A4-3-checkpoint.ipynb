{
 "cells": [
  {
   "cell_type": "code",
   "execution_count": null,
   "metadata": {},
   "outputs": [],
   "source": [
    "#A4-3(1 point)\n",
    "from positional_list import PositionalList\n",
    "class personal_PL(PositionalList):\n",
    "    def add_last(self, elem):\n",
    "        if self.is_empty() == True: #리스트가 비어있으면\n",
    "            return self.add_first(elem) #header 노드 뒤에 elem 삽입\n",
    "        else:\n",
    "            last = self.last()\n",
    "            return self.add_after(last, elem)\n",
    "        \n",
    "    def add_before(self, pos, elem):\n",
    "        if self.is_empty() == True:\n",
    "            return self.add_first(elem)\n",
    "        else:\n",
    "            before_node = self.before(pos) #pos 이전 node를 before_node에 할당\n",
    "            if before_node == None:\n",
    "                return self.add_first(elem)\n",
    "            else:\n",
    "                return self.add_after(before_node, elem) #before_node의 다음 node에 elem 삽입"
   ]
  }
 ],
 "metadata": {
  "kernelspec": {
   "display_name": "Python 3",
   "language": "python",
   "name": "python3"
  },
  "language_info": {
   "codemirror_mode": {
    "name": "ipython",
    "version": 3
   },
   "file_extension": ".py",
   "mimetype": "text/x-python",
   "name": "python",
   "nbconvert_exporter": "python",
   "pygments_lexer": "ipython3",
   "version": "3.7.4"
  }
 },
 "nbformat": 4,
 "nbformat_minor": 2
}
