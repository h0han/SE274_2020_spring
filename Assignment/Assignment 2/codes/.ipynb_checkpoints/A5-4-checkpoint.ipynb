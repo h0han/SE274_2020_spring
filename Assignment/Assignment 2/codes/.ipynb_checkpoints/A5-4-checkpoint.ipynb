{
 "cells": [
  {
   "cell_type": "code",
   "execution_count": null,
   "metadata": {},
   "outputs": [],
   "source": [
    "#A5-4 (3 points)\n",
    "from linked_binary_tree import LinkedBinaryTree \n",
    "class personal_LBP(LinkedBinaryTree):\n",
    "    def _delete_subtree(self, p):\n",
    "        if self.num_children(p) != 0:\n",
    "            for child in self.children(p):\n",
    "                self._delete_subtree(child)\n",
    "            return self._delete(child)\n",
    "        else:\n",
    "            return self._delete(p)\n",
    "\n",
    "running time의 경우, O(n) time이 소요된다."
   ]
  }
 ],
 "metadata": {
  "kernelspec": {
   "display_name": "Python 3",
   "language": "python",
   "name": "python3"
  },
  "language_info": {
   "codemirror_mode": {
    "name": "ipython",
    "version": 3
   },
   "file_extension": ".py",
   "mimetype": "text/x-python",
   "name": "python",
   "nbconvert_exporter": "python",
   "pygments_lexer": "ipython3",
   "version": "3.7.4"
  }
 },
 "nbformat": 4,
 "nbformat_minor": 2
}
