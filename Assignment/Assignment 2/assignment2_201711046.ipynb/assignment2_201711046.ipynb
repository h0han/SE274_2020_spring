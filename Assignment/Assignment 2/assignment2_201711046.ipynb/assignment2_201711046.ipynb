{
 "cells": [
  {
   "cell_type": "markdown",
   "metadata": {},
   "source": [
    "# Data Structure Assignment1\n",
    "---\n",
    "- 201711046 Kim Jungwoo\n",
    "---"
   ]
  },
  {
   "cell_type": "markdown",
   "metadata": {},
   "source": [
    "# A4 - Linked List (5+1 points)\n",
    "\n",
    "All the required python files are in 'Ch7' directory. Find ```PositionalList``` class in ```positional_list.py```.\n",
    "\n",
    "## A4-1 (1 point)\n",
    "Describe in detail how to swap two nodes *x* and *y* (and not just their contents) in a singly linked list ***L*** given references only to *x* and *y* (You may use ```L.head``` for the reference to the head node of the ***L***). Repeat this exercise for the case when L is a doubly linked list. Which algorithm takes more time?\n",
    "\n",
    "[//]:R-7.4"
   ]
  },
  {
   "cell_type": "markdown",
   "metadata": {},
   "source": [
    "- Answer\n",
    "\n",
    "```\n",
    "# pseudo code_singly linked list\n",
    "\n",
    "- Algorithm_swap\n",
    "{\n",
    "    /* init */\n",
    "    node w <- head\n",
    "\n",
    "    while x is not next node of w\n",
    "    {\n",
    "        node w <- next of node w\n",
    "    }\n",
    "\n",
    "    node z <- next of node y\n",
    "\n",
    "    /* algorithm start */\n",
    "    node y <- next of node w\n",
    "    node x <- next of node y\n",
    "    node z <- next of node x\n",
    "}\n",
    "\n",
    "\n",
    "# pseudo code_doubly linked list\n",
    "\n",
    "- Algorithm_swap\n",
    "{\n",
    "    /* init */\n",
    "    node w <- prev of node x\n",
    "    node z <- next of node y\n",
    "\n",
    "    /* algorithm start */\n",
    "    node y <- next of node w\n",
    "    node w <- prev of node y\n",
    "    node x <- next of node y\n",
    "    node y <- prev of node x\n",
    "    node z <- next of node x\n",
    "    node x <- prev of node z\n",
    "}\n",
    "```"
   ]
  },
  {
   "cell_type": "markdown",
   "metadata": {},
   "source": [
    "## A4-2 (1 point)\n",
    "Implement ```__reversed__``` method for the ```PositionalList``` class. This method is similar to the given ```__iter__```, but it iterates the elements in *reversed* order."
   ]
  },
  {
   "cell_type": "code",
   "execution_count": 266,
   "metadata": {},
   "outputs": [],
   "source": [
    "from positional_list import PositionalList\n",
    "\n",
    "class PositionalList_A4_2(PositionalList):\n",
    "    \"\"\"A sequential container of elements allowing positional access.\"\"\"\n",
    "\n",
    "    #------------------------------- added accessor -------------------------------\n",
    "    def __reversed__(self):\n",
    "        \"\"\"Generate a reversed iteration of the elements of the list.\"\"\"\n",
    "        cursor = self.last()\n",
    "        while cursor is not None:\n",
    "            yield cursor.element()\n",
    "            cursor = self.before(cursor) "
   ]
  },
  {
   "cell_type": "markdown",
   "metadata": {},
   "source": [
    "## A4-3 (1 point)\n",
    "Modify ```add_last``` and ```add_before``` methods, only using methods in the set ```{is_empty, first, last, before, after, add_after, add_first}```."
   ]
  },
  {
   "cell_type": "code",
   "execution_count": 267,
   "metadata": {},
   "outputs": [],
   "source": [
    "class PositionalList_A4_3(PositionalList):\n",
    "    \"\"\"A sequential container of elements allowing positional access.\"\"\"\n",
    "    \n",
    "    #------------------------------- added mutators -------------------------------\n",
    "    def add_last_A4_3(self, e):\n",
    "        if self.is_empty():\n",
    "            return self.add_first(e)\n",
    "        else:\n",
    "            return self.add_after(self.last(), e)\n",
    "    \n",
    "    def add_before_A4_3(self, p, e):\n",
    "        return self.add_after(self.before(p), e)"
   ]
  },
  {
   "cell_type": "markdown",
   "metadata": {},
   "source": [
    "## A4-4 (1 point)\n",
    "Update the ```PositionalList``` to support an additional method ```max()```, that returns the maximum element from a ```PositionalList```. For example. for instance ***L*** containing comparable elements, you execute the function by calling ```L.max()```."
   ]
  },
  {
   "cell_type": "code",
   "execution_count": 268,
   "metadata": {},
   "outputs": [],
   "source": [
    "class PositionalList_A4_4(PositionalList):\n",
    "    def max(self):\n",
    "        maximum = 0\n",
    "        it = iter(self)\n",
    "        for i in it:\n",
    "            if type(i) not in [int, float]:\n",
    "                raise TypeError('Each element must be comparable')\n",
    "            else:\n",
    "                if i > maximum:\n",
    "                    maximum = i\n",
    "        return maximum"
   ]
  },
  {
   "cell_type": "markdown",
   "metadata": {},
   "source": [
    "## A4-5 (1 point)\n",
    "Update the ```PositionalList``` to support an additional method ```find(e)```, which returns the position of the (first occurance of) element ***e*** in the list (or **None** if not found)."
   ]
  },
  {
   "cell_type": "code",
   "execution_count": 269,
   "metadata": {},
   "outputs": [],
   "source": [
    "class PositionalList_A4_5(PositionalList):\n",
    "    def find(self, e):\n",
    "        cursor = self.first()\n",
    "        while cursor is not None:\n",
    "            if cursor.element() == e:\n",
    "                return cursor\n",
    "            else:\n",
    "                cursor = self.after(cursor)\n",
    "        return None"
   ]
  },
  {
   "cell_type": "markdown",
   "metadata": {},
   "source": [
    "## A4-Bonus (1 point)\n",
    "Update the previous ```find(e)``` using recursion. Your method should not contain any loops. How much space does your method use in addition to the space used for ***L***?"
   ]
  },
  {
   "cell_type": "code",
   "execution_count": 272,
   "metadata": {},
   "outputs": [],
   "source": [
    "class PositionalList_A4_bonus(PositionalList):\n",
    "    def find(self, e, _p = \"dummy\"):\n",
    "        if p == \"dummy\":\n",
    "            return self.find(e, self.first())\n",
    "        elif p is None:\n",
    "            return None\n",
    "        elif p.element() == e:\n",
    "            return p\n",
    "        else:\n",
    "            return self.find(e, self.after(p))"
   ]
  },
  {
   "cell_type": "markdown",
   "metadata": {},
   "source": [
    "**space complexity analysis**<br/>Let the capacity of ***L*** be **n**. Then the function will be called recursively **n** times, so it will be push **n** times to the stack. Therefore the space complexity is ```O(n)```."
   ]
  },
  {
   "cell_type": "markdown",
   "metadata": {},
   "source": [
    "# A5 - Trees (7 points)\n",
    "\n",
    "## A5-1 (1 point)\n",
    "Answer the following questions. You have to answer all of them correctly to get the point.\n",
    "![Tree](ex_tree.png \"Tree\")"
   ]
  },
  {
   "cell_type": "markdown",
   "metadata": {},
   "source": [
    "1. Which node is the root?<br/>**/user/rt/courses/**\n",
    "\n",
    "1. What are the internal nodes?<br/>**/user/rt/courses/, cs016/, cs252/, homeworks/, programs/, projects/, papers/, demos/**\n",
    "1. How many descendants does node ```cs016/``` have?<br/>**grades, hw1, hw2, hw3, pr1, pr3, pr3, buylow, sellhigh, market, grades**\n",
    "1. How many ancestors does node ```cs016/``` have?<br/>**1**\n",
    "1. What are the sibilings of node ```homeworks/```?<br/>**grades/, programs/**\n",
    "1. Which nodes are in the subtree rooted at node ```projects/```?<br/>**papers/, demos/**\n",
    "1. What is the depth of node ```papers/```?<br/>**3**\n",
    "1. What is the height of the tree?<br/>**4**"
   ]
  },
  {
   "cell_type": "markdown",
   "metadata": {},
   "source": [
    "## A5-2 (1 point)\n",
    "Draw a binary tree ***T*** that simultaneously satisfies the followings:\n",
    "* Each internal node ***T*** stores a single character\n",
    "* A *preorder* traversal of ***T*** yields **EXAMFUN**\n",
    "* A *inorder* traversal of ***T*** yields **MAFXUEN**"
   ]
  },
  {
   "cell_type": "markdown",
   "metadata": {},
   "source": [
    "![Tree](syntax_tree.png \"Tree\")"
   ]
  },
  {
   "cell_type": "markdown",
   "metadata": {},
   "source": [
    "## A5-3 (2 points)\n",
    "Let ***T*** be a binary tree with *n* positions that is realized with an array representation ***A***, and let *f()* be the level numbering function of the positions of ***T***.\n",
    "\n",
    "A *level numbering* function is a function that numbers the positino on each level of ***T*** in increasing order from left to right. For example, check this figure. \n",
    "![Level Numbering](level_numbering.png \"Level Numbering\")\n",
    "\n",
    "Give pseudo-code descriptions of each of the methods ```root(), parent(p), left(p), right(p), is_leaf(p), is_root(p)```, when *p* is given as the current position in the array. Assume the numbering starts from 0."
   ]
  },
  {
   "cell_type": "markdown",
   "metadata": {},
   "source": [
    "- Answer\n",
    "\n",
    "```\n",
    "def root():\n",
    "    for node in T:\n",
    "        if f(node) == 0:\n",
    "            return node\n",
    "\n",
    "def parent(p):\n",
    "    if f(p) is odd:\n",
    "        for node in T:\n",
    "            if f(node) == (f(p)-1)/2:\n",
    "                return node\n",
    "    else:\n",
    "        for node in T:\n",
    "            if f(node) == f(p)/2 - 1:\n",
    "                return node\n",
    "    return None\n",
    "\n",
    "def left(p):\n",
    "    for node in T:\n",
    "        if f(node) == f(p)*2 + 1\n",
    "            return node\n",
    "    return None\n",
    "\n",
    "def right(p):\n",
    "    for node in T:\n",
    "        if f(node) == 2*(f(p) + 1)\n",
    "            return node\n",
    "    return None\n",
    "\n",
    "def is_leaf(p):\n",
    "    if (left(p) and right(p)):\n",
    "        return True\n",
    "    else:\n",
    "        return False\n",
    "\n",
    "def is_root(p):\n",
    "    if f(p) == 0:\n",
    "        return True\n",
    "    else:\n",
    "        return False\n",
    "```"
   ]
  },
  {
   "cell_type": "markdown",
   "metadata": {},
   "source": [
    "## A5-4 (3 points)\n",
    "All the required python files are in 'Ch8' directory. Find ```LinkedBinaryTree``` class in ```linked_binary_tree.py```. Implement a new method, ```_delete_subtree(p)```, that removes the entire subtree rooted at position *p*, making sure to maintain the count on the size of the tree. What is the running time of your implementation?"
   ]
  },
  {
   "cell_type": "code",
   "execution_count": 286,
   "metadata": {},
   "outputs": [],
   "source": [
    "from linked_binary_tree import LinkedBinaryTree\n",
    "class LinkedBinaryTree_A5_4(LinkedBinaryTree):\n",
    "    def _delete_subtree(self, p):\n",
    "        if self.num_children() == 0:\n",
    "            self._delete(p)\n",
    "        else:\n",
    "            for child in self.children(p):\n",
    "                self._delete_subtree(child)\n",
    "            self._delete(child)"
   ]
  },
  {
   "cell_type": "markdown",
   "metadata": {},
   "source": [
    "**time complexity analysis**<br/>The Recurrence relationship of this algorithm is T(n) = 2T(n/2) + O(logn). Therefore the running time is ```O(n)``` by master theorem."
   ]
  },
  {
   "cell_type": "markdown",
   "metadata": {},
   "source": [
    "# A6 - Priority Queues, Heaps (8+2 points)\n",
    "\n",
    "## A6-1 (1 point)\n",
    "How long would it take to remove the ```[log n]``` smallest elements from a heap that contains *n* entries, using the ```remove_min``` operation?"
   ]
  },
  {
   "cell_type": "markdown",
   "metadata": {},
   "source": [
    "- Answer\n",
    "\n",
    "Each ```removeMin``` call runs in ```O(log n)```, so log n calls would run on the order of ```O(log^2 n)```."
   ]
  },
  {
   "cell_type": "markdown",
   "metadata": {},
   "source": [
    "## A6-2 (1 point)\n",
    "What does each ```remove_min``` call return within the following sequence of priority queue ADT methods:\n",
    "```add(5,A), add(4,B), add(7,F), add(1,D), remove_min(), add(3,J), add(6,L), remove_min(), remove_min(), add(8,G), remove_min(), add(2,H), remove_min(), remove_min()```?\n",
    "\n",
    "***Note:*** Use only a pen and paper. Don't cheat by executing the code in a computer.\n"
   ]
  },
  {
   "cell_type": "markdown",
   "metadata": {},
   "source": [
    "- Answer\n",
    "\n",
    "1. First ```remove_min()```\n",
    "\n",
    "[(1, D), (4, B), (5, A), (7, F)] --```remove_min()```--> (1, D)\n",
    "\n",
    "<br/>\n",
    "\n",
    "2. Second ```remove_min()```\n",
    "\n",
    "[(3, J), (4, B), (5, A), (6, L), (7, F)] --```remove_min()```--> (3, J)\n",
    "\n",
    "<br/>\n",
    "\n",
    "3. Third ```remove_min()```\n",
    "\n",
    "[(4, B), (5, A), (6, L), (7, F)] --```remove_min()```--> (4, B)\n",
    "\n",
    "\n",
    "<br/>\n",
    "\n",
    "4. Forth ```remove_min()```\n",
    "\n",
    "[(5, A), (6, L), (7, F), (8, G)] --```remove_min()```--> (5, A)\n",
    "\n",
    "\n",
    "<br/>\n",
    "\n",
    "5. Fifth ```remove_min()```\n",
    "\n",
    "[(2, H), (6, L), (7, F), (8, G)] --```remove_min()```--> (2, H)\n",
    "\n",
    "<br/>\n",
    "\n",
    "6. Last ```remove_min()```\n",
    "\n",
    "[(6, L), (7, F), (8, G)] --```remove_min()```--> (6, L)\n",
    "\n",
    "<br/>\n",
    "\n",
    "Therefore (1, D), (3, J), (4,B), (5,A), (2,H), (6,L).\n"
   ]
  },
  {
   "cell_type": "markdown",
   "metadata": {},
   "source": [
    "## A6-3 (1 point)\n",
    "\n",
    "An airport is developing a computer simulation of air-traffic control that\n",
    "handles events such as landings and takeoffs. Each event has a time stamp\n",
    "that denotes the time when the event will occur. The simulation program\n",
    "needs to efficiently perform the following two fundamental operations:\n",
    "\n",
    "* Insert an event with a given time stamp (that is, add a future event).\n",
    "* Extract the event with smallest time stamp (that is, determine the next event to process).\n",
    "\n",
    "Which data structure should be used for the above operations? Why?"
   ]
  },
  {
   "cell_type": "markdown",
   "metadata": {},
   "source": [
    "**당연빠따 우선순위큐겠죠 쒸빠**"
   ]
  },
  {
   "cell_type": "markdown",
   "metadata": {},
   "source": [
    "## A6-4 (1 point)\n",
    "Illustrate the execution of the selection-sort algorithm on the following input sequence: (22, 15, 36, 44, 10, 3, 9, 13, 29, 25).\n",
    "***Note:*** Display the internal data in the priority queue for each step."
   ]
  },
  {
   "cell_type": "markdown",
   "metadata": {},
   "source": [
    "- Answer\n",
    "|22|15|36|44|10| 3| 9|13|29|25|\n",
    "|:-:|:-:|:-:|:-:|:-:|:-:|:-:|:-:|:-:|:-:|\n",
    "| 3|15|36|44|10|22| 9|13|29|25|\n",
    "| 3| 9|36|44|10|22|15|13|29|25|\n",
    "| 3| 9|10|44|36|22|15|13|29|25|\n",
    "| 3| 9|10|13|36|22|15|44|29|25|\n",
    "| 3| 9|10|13|15|22|36|44|29|25|\n",
    "| 3| 9|10|13|15|22|25|44|29|36|\n",
    "| 3| 9|10|13|15|22|25|29|44|36|\n",
    "| 3| 9|10|13|15|22|25|29|36|44|"
   ]
  },
  {
   "cell_type": "markdown",
   "metadata": {},
   "source": [
    "## A6-5 (1 point)\n",
    "Repeat A6-4 with the insertion-sort algorithm."
   ]
  },
  {
   "cell_type": "markdown",
   "metadata": {},
   "source": [
    "- Answer\n",
    "|22|15|36|44|10| 3| 9|13|29|25|\n",
    "|:-:|:-:|:-:|:-:|:-:|:-:|:-:|:-:|:-:|:-:|\n",
    "|15|22|36|44|10| 3| 9|13|29|25|\n",
    "|10|15|22|36|44| 3| 9|13|29|25|\n",
    "| 3|10|15|22|36|44| 9|13|29|25|\n",
    "| 3| 9|10|15|22|36|44|13|29|25|\n",
    "| 3| 9|10|13|15|22|36|44|29|25|\n",
    "| 3| 9|10|13|15|22|29|36|44|25|\n",
    "| 3| 9|10|13|15|22|25|29|36|44|"
   ]
  },
  {
   "cell_type": "markdown",
   "metadata": {},
   "source": [
    "## A6-6 (3 points)\n",
    "In 'Ch9' directory, find ```HeapPriorityQueue``` class in ```heap_priority_queue.py```. \n",
    "Implement ```heappushpop``` method and ```heapreplace``` methods, with semantics akin to the described methods for the ```heapq``` Python module as follow:\n",
    "\n",
    "* ```heappushpop(e)```: Push element e on and then pop and return the smallest item. The time is O(logn), but it is slightly more efficient than separate calls to push and pop because the size of the list never changes. If the newly pushed element becomes the smallest, it is immediately returned. Otherwise, the new element takes the place of the popped element at the root and a down-heap is performed.\n",
    "* ```heapreplace(e)```: Similar to heappushpop, but equivalent to the pop being performed before the push (in other words, the new element cannot be returned as the smallest). Again, the time is O(logn), but it is more efficient than two separate operations."
   ]
  },
  {
   "cell_type": "code",
   "execution_count": 109,
   "metadata": {},
   "outputs": [
    {
     "name": "stdout",
     "output_type": "stream",
     "text": [
      "[(3,Zulu), (67,Lima), (88,Tango), (94,India), (83,X-ray)]\n",
      "\n",
      "(3, 'Zulu')\n",
      "[(21,jungwoo), (67,Lima), (88,Tango), (94,India), (83,X-ray)]\n",
      "\n",
      "(19, 'Sunjun')\n",
      "[(21,jungwoo), (67,Lima), (88,Tango), (94,India), (83,X-ray)]\n",
      "----------------------------------------------------------------------\n",
      "[(3,Zulu), (67,Lima), (88,Tango), (94,India), (83,X-ray)]\n",
      "\n",
      "(3, 'Zulu')\n",
      "[(21,jungwoo), (67,Lima), (88,Tango), (94,India), (83,X-ray)]\n",
      "\n",
      "(21, 'jungwoo')\n",
      "[(19,Sunjun), (67,Lima), (88,Tango), (94,India), (83,X-ray)]\n"
     ]
    }
   ],
   "source": [
    "import random\n",
    "from heap_priority_queue import HeapPriorityQueue\n",
    "class HeapPriorityQueue_A6_6(HeapPriorityQueue):\n",
    "    def heappushpop(self, e):\n",
    "        self.add(e[0], e[1])\n",
    "        return self.remove_min()\n",
    "    def heapreplace(self, e):\n",
    "        pop = self.remove_min()\n",
    "        self.add(e[0], e[1])\n",
    "        return pop\n",
    "        \n",
    "Q = HeapPriorityQueue_A6_6()\n",
    "random.seed(5)\n",
    "names = [\"Alfa\", \"Bravo\", \"Charlie\", \"Delta\", \"Echo\", \"Foxtrot\", \"Golf\", \"Hotel\", \"India\", \"Juliett\", \"Kilo\", \"Lima\", \"Mike\", \"November\", \"Oscar\", \"Papa\", \"Quebec\", \"Romeo\", \"Sierra\", \"Tango\", \"Uniform\", \"Victor\", \"Whiskey\", \"X-ray\", \"Yankee\", \"Zulu\"]\n",
    "for name in random.sample(names, 5):\n",
    "    key = random.randint(0, 100)\n",
    "    Q.add(key, name)\n",
    "print(Q._data)\n",
    "print()\n",
    "print(Q.heappushpop((21, 'jungwoo')))\n",
    "print(Q._data)\n",
    "print()\n",
    "print(Q.heappushpop((19, 'Sunjun')))\n",
    "print(Q._data)\n",
    "print('----------------------------------------------------------------------')\n",
    "H = HeapPriorityQueue_A6_6()\n",
    "random.seed(5)\n",
    "for name in random.sample(names, 5):\n",
    "    key = random.randint(0, 100)\n",
    "    H.add(key, name)\n",
    "print(H._data)\n",
    "print()\n",
    "print(H.heapreplace((21, 'jungwoo')))\n",
    "print(H._data)\n",
    "print()\n",
    "print(H.heapreplace((19, 'Sunjun')))\n",
    "print(H._data)"
   ]
  },
  {
   "cell_type": "markdown",
   "metadata": {},
   "source": [
    "## A6-Bonus (2 points)\n",
    "Implement an in-place heap sort algorithm, ```heapsort(a)```, where **a** is a list of unsorted numbers before running the method, and **a** becomes a sorted list after the method. Follow these steps for implementing it (textbook p389).\n",
    "\n",
    "If the collection C to be sorted is implemented by means of an array-based sequence, most notably as a Python list, we can speed up heap-sort and reduce its space requirement by a constant factor using a portion of the list itself to store the heap, thus avoiding the use of an auxiliary heap data structure. This is accomplished by modifying the algorithm as follows:\n",
    "\n",
    "1. We redefine the heap operations to be a maximum-oriented heap, with each position’s key being at least as large as its children. This can be done by recoding the algorithm, or by adjusting the notion of keys to be negatively oriented. At any time during the execution of the algorithm, we use the left portion of C, up to a certain index i−1, to store the entries of the heap, and the right portion of C, from index i to n−1, to store the elements of the sequence. Thus, the first i elements of C (at indices 0, . . . , i−1) provide the array-list representation of the heap.\n",
    "1. In the first phase of the algorithm, we start with an empty heap and move the boundary between the heap and the sequence from left to right, one step at a time. In step i, for i = 1, . . . ,n, we expand the heap by adding the element at index i−1.\n",
    "1. In the second phase of the algorithm, we start with an empty sequence and move the boundary between the heap and the sequence from right to left, one step at a time. At step i, for i = 1, . . . ,n, we remove a maximum element from the heap and store it at index n−i.\n",
    "    \n",
    "In general, we say that a sorting algorithm is ***in-place*** if it uses only a small amount of memory in addition to the sequence storing the objects to be sorted. The variation of heap-sort above qualifies as in-place; instead of transferring elementsout of the sequence and then back in, we simply rearrange them. We illustrate the second phase of in-place heap-sort in the following figure."
   ]
  },
  {
   "cell_type": "code",
   "execution_count": 114,
   "metadata": {},
   "outputs": [
    {
     "data": {
      "text/plain": [
       "[1, 2, 3, 3, 4, 4, 4, 5, 6, 7, 8]"
      ]
     },
     "execution_count": 114,
     "metadata": {},
     "output_type": "execute_result"
    }
   ],
   "source": [
    "class HeapPriorityQueue_A6_bonus(HeapPriorityQueue):\n",
    "    def heapsort(a):\n",
    "        h = HeapPriorityQueue()\n",
    "        for key in a:\n",
    "            h.add(key, \"val\")\n",
    "        return [h.remove_min()[0] for i in range(len(a))]\n",
    "\n",
    "HeapPriorityQueue_A6_bonus.heapsort([1,4,5,3,3,7,8,4,2,4,6])"
   ]
  },
  {
   "cell_type": "code",
   "execution_count": null,
   "metadata": {},
   "outputs": [],
   "source": []
  }
 ],
 "metadata": {
  "kernelspec": {
   "display_name": "Python 3",
   "language": "python",
   "name": "python3"
  },
  "language_info": {
   "codemirror_mode": {
    "name": "ipython",
    "version": 3
   },
   "file_extension": ".py",
   "mimetype": "text/x-python",
   "name": "python",
   "nbconvert_exporter": "python",
   "pygments_lexer": "ipython3",
   "version": "3.7.4"
  }
 },
 "nbformat": 4,
 "nbformat_minor": 4
}
