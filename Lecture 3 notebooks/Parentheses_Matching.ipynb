{
 "cells": [
  {
   "cell_type": "code",
   "execution_count": 1,
   "metadata": {},
   "outputs": [],
   "source": [
    "from dsLecture3 import ArrayStack"
   ]
  },
  {
   "cell_type": "markdown",
   "metadata": {},
   "source": [
    "```\n",
    "Algorithm ParenMatch(X,n):\n",
    "\n",
    "Input: An array X of n tokens, each of which is either a grouping symbol, a variable, an arithmetic operator, or a number\n",
    "\n",
    "Output: true if and only if all the grouping symbols in X match\n",
    "\n",
    "=======================================\n",
    "Let S be an empty stack\n",
    "for i=0 to n-1 do\n",
    "\tif X[i] is an opening grouping symbol then\n",
    "\t\tS.push(X[i])\n",
    "\telse if X[i] is a closing grouping symbol then\n",
    "\t\tif S.is_empty() then\n",
    "\t\t\treturn false {nothing to match with} \n",
    "\t\tif S.pop() does not match the type of X[i] then\n",
    "\t\t\treturn false {wrong type} \n",
    "if S.is_empty() then\n",
    "\treturn true {every symbol matched} \n",
    "else return false {some symbols were never matched}\n",
    "```"
   ]
  },
  {
   "cell_type": "code",
   "execution_count": 2,
   "metadata": {},
   "outputs": [],
   "source": [
    "def ParenMatch(X):\n",
    "    lefty = '({['\n",
    "    righty = ')}]'\n",
    "    S = ArrayStack()\n",
    "    for symbol in X:\n",
    "        if symbol in lefty:\n",
    "            S.push(symbol)\n",
    "        elif symbol in righty:\n",
    "            if S.is_empty():\n",
    "                return False\n",
    "            if righty.index(symbol) != lefty.index(S.pop()):\n",
    "                return False\n",
    "    return S.is_empty()"
   ]
  },
  {
   "cell_type": "code",
   "execution_count": 3,
   "metadata": {},
   "outputs": [
    {
     "name": "stdout",
     "output_type": "stream",
     "text": [
      "True\n",
      "True\n",
      "False\n",
      "False\n",
      "False\n"
     ]
    }
   ],
   "source": [
    "print(ParenMatch(list('()(()){([()])}')))\n",
    "print(ParenMatch(list('((()(()){([()])}))')))\n",
    "print(ParenMatch(list(')(()){([()])}')))\n",
    "print(ParenMatch(list('({[])}')))\n",
    "print(ParenMatch(list('(')))"
   ]
  },
  {
   "cell_type": "code",
   "execution_count": 4,
   "metadata": {},
   "outputs": [],
   "source": [
    "def ParenMatch_explained(X):\n",
    "    print(f'Processing {X}')\n",
    "    lefty = '({['\n",
    "    righty = ')}]'\n",
    "    S = ArrayStack()\n",
    "    index = 0\n",
    "    for symbol in X:\n",
    "        print(f'#{index} - Processing {symbol}')\n",
    "        index += 1\n",
    "        \n",
    "        if symbol in lefty:\n",
    "            S.push(symbol)\n",
    "            print(f'Push {symbol} into the stack')\n",
    "        elif symbol in righty:\n",
    "            if S.is_empty():\n",
    "                print('The stack is empty, but there comes a righty')\n",
    "                return False\n",
    "            popped = S.pop()\n",
    "            print(f'Pop {popped} from the stack')            \n",
    "            if righty.index(symbol) != lefty.index(popped):                \n",
    "                print(f'The righty {symbol} is not matching to {popped}')\n",
    "                return False\n",
    "            print(f'The popped symbol {popped} is matched to {symbol}')\n",
    "        S.display()\n",
    "    return S.is_empty()"
   ]
  },
  {
   "cell_type": "code",
   "execution_count": 5,
   "metadata": {
    "scrolled": false
   },
   "outputs": [
    {
     "name": "stdout",
     "output_type": "stream",
     "text": [
      "Processing ['(', ')', '(', '(', ')', ')', '{', '(', '[', '(', ')', ']', ')', '}']\n",
      "#0 - Processing (\n",
      "Push ( into the stack\n",
      "STACK: B|(|T\n",
      "#1 - Processing )\n",
      "Pop ( from the stack\n",
      "The popped symbol ( is matched to )\n",
      "STACK: B||T\n",
      "#2 - Processing (\n",
      "Push ( into the stack\n",
      "STACK: B|(|T\n",
      "#3 - Processing (\n",
      "Push ( into the stack\n",
      "STACK: B|((|T\n",
      "#4 - Processing )\n",
      "Pop ( from the stack\n",
      "The popped symbol ( is matched to )\n",
      "STACK: B|(|T\n",
      "#5 - Processing )\n",
      "Pop ( from the stack\n",
      "The popped symbol ( is matched to )\n",
      "STACK: B||T\n",
      "#6 - Processing {\n",
      "Push { into the stack\n",
      "STACK: B|{|T\n",
      "#7 - Processing (\n",
      "Push ( into the stack\n",
      "STACK: B|{(|T\n",
      "#8 - Processing [\n",
      "Push [ into the stack\n",
      "STACK: B|{([|T\n",
      "#9 - Processing (\n",
      "Push ( into the stack\n",
      "STACK: B|{([(|T\n",
      "#10 - Processing )\n",
      "Pop ( from the stack\n",
      "The popped symbol ( is matched to )\n",
      "STACK: B|{([|T\n",
      "#11 - Processing ]\n",
      "Pop [ from the stack\n",
      "The popped symbol [ is matched to ]\n",
      "STACK: B|{(|T\n",
      "#12 - Processing )\n",
      "Pop ( from the stack\n",
      "The popped symbol ( is matched to )\n",
      "STACK: B|{|T\n",
      "#13 - Processing }\n",
      "Pop { from the stack\n",
      "The popped symbol { is matched to }\n",
      "STACK: B||T\n",
      "True\n"
     ]
    }
   ],
   "source": [
    "print(ParenMatch_explained(list('()(()){([()])}')))"
   ]
  },
  {
   "cell_type": "code",
   "execution_count": 6,
   "metadata": {},
   "outputs": [
    {
     "name": "stdout",
     "output_type": "stream",
     "text": [
      "Processing ['(', '(', '(', ')', '(', '(', ')', ')', '{', '(', '[', '(', ')', ']', ')', '}', ')', ')']\n",
      "#0 - Processing (\n",
      "Push ( into the stack\n",
      "STACK: B|(|T\n",
      "#1 - Processing (\n",
      "Push ( into the stack\n",
      "STACK: B|((|T\n",
      "#2 - Processing (\n",
      "Push ( into the stack\n",
      "STACK: B|(((|T\n",
      "#3 - Processing )\n",
      "Pop ( from the stack\n",
      "The popped symbol ( is matched to )\n",
      "STACK: B|((|T\n",
      "#4 - Processing (\n",
      "Push ( into the stack\n",
      "STACK: B|(((|T\n",
      "#5 - Processing (\n",
      "Push ( into the stack\n",
      "STACK: B|((((|T\n",
      "#6 - Processing )\n",
      "Pop ( from the stack\n",
      "The popped symbol ( is matched to )\n",
      "STACK: B|(((|T\n",
      "#7 - Processing )\n",
      "Pop ( from the stack\n",
      "The popped symbol ( is matched to )\n",
      "STACK: B|((|T\n",
      "#8 - Processing {\n",
      "Push { into the stack\n",
      "STACK: B|(({|T\n",
      "#9 - Processing (\n",
      "Push ( into the stack\n",
      "STACK: B|(({(|T\n",
      "#10 - Processing [\n",
      "Push [ into the stack\n",
      "STACK: B|(({([|T\n",
      "#11 - Processing (\n",
      "Push ( into the stack\n",
      "STACK: B|(({([(|T\n",
      "#12 - Processing )\n",
      "Pop ( from the stack\n",
      "The popped symbol ( is matched to )\n",
      "STACK: B|(({([|T\n",
      "#13 - Processing ]\n",
      "Pop [ from the stack\n",
      "The popped symbol [ is matched to ]\n",
      "STACK: B|(({(|T\n",
      "#14 - Processing )\n",
      "Pop ( from the stack\n",
      "The popped symbol ( is matched to )\n",
      "STACK: B|(({|T\n",
      "#15 - Processing }\n",
      "Pop { from the stack\n",
      "The popped symbol { is matched to }\n",
      "STACK: B|((|T\n",
      "#16 - Processing )\n",
      "Pop ( from the stack\n",
      "The popped symbol ( is matched to )\n",
      "STACK: B|(|T\n",
      "#17 - Processing )\n",
      "Pop ( from the stack\n",
      "The popped symbol ( is matched to )\n",
      "STACK: B||T\n",
      "True\n"
     ]
    }
   ],
   "source": [
    "print(ParenMatch_explained(list('((()(()){([()])}))')))"
   ]
  },
  {
   "cell_type": "code",
   "execution_count": 7,
   "metadata": {},
   "outputs": [
    {
     "name": "stdout",
     "output_type": "stream",
     "text": [
      "Processing [')', '(', '(', ')', ')', '{', '(', '[', '(', ')', ']', ')', '}']\n",
      "#0 - Processing )\n",
      "The stack is empty, but there comes a righty\n",
      "False\n"
     ]
    }
   ],
   "source": [
    "print(ParenMatch_explained(list(')(()){([()])}')))"
   ]
  },
  {
   "cell_type": "code",
   "execution_count": 8,
   "metadata": {},
   "outputs": [
    {
     "name": "stdout",
     "output_type": "stream",
     "text": [
      "Processing ['(', '{', '[', ']', ')', '}']\n",
      "#0 - Processing (\n",
      "Push ( into the stack\n",
      "STACK: B|(|T\n",
      "#1 - Processing {\n",
      "Push { into the stack\n",
      "STACK: B|({|T\n",
      "#2 - Processing [\n",
      "Push [ into the stack\n",
      "STACK: B|({[|T\n",
      "#3 - Processing ]\n",
      "Pop [ from the stack\n",
      "The popped symbol [ is matched to ]\n",
      "STACK: B|({|T\n",
      "#4 - Processing )\n",
      "Pop { from the stack\n",
      "The righty ) is not matching to {\n",
      "False\n"
     ]
    }
   ],
   "source": [
    "print(ParenMatch_explained(list('({[])}')))"
   ]
  },
  {
   "cell_type": "code",
   "execution_count": 9,
   "metadata": {},
   "outputs": [
    {
     "name": "stdout",
     "output_type": "stream",
     "text": [
      "Processing ['(']\n",
      "#0 - Processing (\n",
      "Push ( into the stack\n",
      "STACK: B|(|T\n",
      "False\n"
     ]
    }
   ],
   "source": [
    "print(ParenMatch_explained(list('(')))"
   ]
  },
  {
   "cell_type": "code",
   "execution_count": null,
   "metadata": {},
   "outputs": [],
   "source": []
  },
  {
   "cell_type": "code",
   "execution_count": null,
   "metadata": {},
   "outputs": [],
   "source": []
  }
 ],
 "metadata": {
  "kernelspec": {
   "display_name": "Python 3",
   "language": "python",
   "name": "python3"
  },
  "language_info": {
   "codemirror_mode": {
    "name": "ipython",
    "version": 3
   },
   "file_extension": ".py",
   "mimetype": "text/x-python",
   "name": "python",
   "nbconvert_exporter": "python",
   "pygments_lexer": "ipython3",
   "version": "3.7.4"
  }
 },
 "nbformat": 4,
 "nbformat_minor": 2
}
