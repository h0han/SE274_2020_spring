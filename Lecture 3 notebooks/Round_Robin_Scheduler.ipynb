{
 "cells": [
  {
   "cell_type": "code",
   "execution_count": 1,
   "metadata": {},
   "outputs": [],
   "source": [
    "from dsLecture3 import ArrayQueue"
   ]
  },
  {
   "cell_type": "code",
   "execution_count": 2,
   "metadata": {},
   "outputs": [],
   "source": [
    "class Task:\n",
    "    def __init__(self, list_of_jobs):\n",
    "        self._jobs = ArrayQueue()\n",
    "        for job in list_of_jobs:\n",
    "            self._jobs.enqueue(job)\n",
    "            \n",
    "    def get_next_job(self):\n",
    "        if self._jobs.is_empty():\n",
    "            return None\n",
    "        return self._jobs.dequeue()\n",
    "    \n",
    "    def has_more_job(self):\n",
    "        return not self._jobs.is_empty()\n",
    "\n",
    "class RR_Scheduler:\n",
    "    # q: a queue of task objects\n",
    "    \n",
    "    def __init__(self):\n",
    "        self._q = ArrayQueue()\n",
    "        \n",
    "    def feed_task(self, task):   # Task: a list of tasks that requires a unit operation time\n",
    "        self._q.enqueue(task)\n",
    "        \n",
    "    def get_next_job(self):\n",
    "        if self._q.is_empty():\n",
    "            return None\n",
    "        \n",
    "        next_task = self._q.dequeue()\n",
    "        next_job = next_task.get_next_job()\n",
    "        \n",
    "        if next_task.has_more_job():\n",
    "            self._q.enqueue(next_task)                 # Round-Robin Scheduling\n",
    "        \n",
    "        return next_job"
   ]
  },
  {
   "cell_type": "code",
   "execution_count": 3,
   "metadata": {},
   "outputs": [
    {
     "name": "stdout",
     "output_type": "stream",
     "text": [
      "1A\n",
      "1B\n",
      "2A\n",
      "1C\n",
      "2B\n",
      "1D\n",
      "3A\n",
      "2C\n",
      "4A\n",
      "3B\n",
      "2D\n",
      "4B\n",
      "3C\n",
      "4C\n",
      "3D\n",
      "4D\n"
     ]
    }
   ],
   "source": [
    "t1 = Task(['1A', '1B', '1C', '1D'])\n",
    "t2 = Task(['2A', '2B', '2C', '2D'])\n",
    "t3 = Task(['3A', '3B', '3C', '3D'])\n",
    "t4 = Task(['4A', '4B', '4C', '4D'])\n",
    "\n",
    "sch = RR_Scheduler()\n",
    "sch.feed_task(t1)\n",
    "print(sch.get_next_job())\n",
    "sch.feed_task(t2)\n",
    "print(sch.get_next_job())\n",
    "print(sch.get_next_job())\n",
    "print(sch.get_next_job())\n",
    "sch.feed_task(t3)\n",
    "print(sch.get_next_job())\n",
    "sch.feed_task(t4)\n",
    "print(sch.get_next_job())\n",
    "\n",
    "while True:\n",
    "    next_job=sch.get_next_job()\n",
    "    if next_job == None:\n",
    "        break\n",
    "    \n",
    "    print(next_job)"
   ]
  },
  {
   "cell_type": "code",
   "execution_count": null,
   "metadata": {},
   "outputs": [],
   "source": []
  },
  {
   "cell_type": "code",
   "execution_count": null,
   "metadata": {},
   "outputs": [],
   "source": []
  }
 ],
 "metadata": {
  "kernelspec": {
   "display_name": "Python 3",
   "language": "python",
   "name": "python3"
  },
  "language_info": {
   "codemirror_mode": {
    "name": "ipython",
    "version": 3
   },
   "file_extension": ".py",
   "mimetype": "text/x-python",
   "name": "python",
   "nbconvert_exporter": "python",
   "pygments_lexer": "ipython3",
   "version": "3.7.4"
  }
 },
 "nbformat": 4,
 "nbformat_minor": 2
}
