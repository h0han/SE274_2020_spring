{
 "cells": [
  {
   "cell_type": "code",
   "execution_count": null,
   "metadata": {},
   "outputs": [],
   "source": [
    "#A6-6 (3 points)\n",
    "from heap_priority_queue import HeapPriorityQueue \n",
    "class heapq(HeapPriorityQueue):\n",
    "    def heappushpop(self, elem):\n",
    "        self.add(elem[0], elem[1]) #elem의 key, value쌍 입력\n",
    "        return self.remove_min() #downheap의 경우 remove_min에서 자동으로 수행\n",
    "    \n",
    "    def heapreplace(self, elem):\n",
    "        show = self.remove_min() #조건에 맞추어 새로운 element가 add되기 전 최솟값을 추출\n",
    "        self.add(elem[0], elem[1])\n",
    "        return show"
   ]
  }
 ],
 "metadata": {
  "kernelspec": {
   "display_name": "Python 3",
   "language": "python",
   "name": "python3"
  },
  "language_info": {
   "codemirror_mode": {
    "name": "ipython",
    "version": 3
   },
   "file_extension": ".py",
   "mimetype": "text/x-python",
   "name": "python",
   "nbconvert_exporter": "python",
   "pygments_lexer": "ipython3",
   "version": "3.7.4"
  }
 },
 "nbformat": 4,
 "nbformat_minor": 2
}
