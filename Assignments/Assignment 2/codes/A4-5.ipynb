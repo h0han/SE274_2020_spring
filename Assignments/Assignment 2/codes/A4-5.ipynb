{
 "cells": [
  {
   "cell_type": "code",
   "execution_count": null,
   "metadata": {},
   "outputs": [],
   "source": [
    "#A4-5(1 point)\n",
    "from positional_list import PositionalList \n",
    "class personal_PL_5(PositionalList):\n",
    "    def find(self, elem):\n",
    "        iterator = iter(self)\n",
    "        for i in iterator:\n",
    "            if elem == i:\n",
    "                return self._make_position(i)\n",
    "            else:\n",
    "                return None"
   ]
  }
 ],
 "metadata": {
  "kernelspec": {
   "display_name": "Python 3",
   "language": "python",
   "name": "python3"
  },
  "language_info": {
   "codemirror_mode": {
    "name": "ipython",
    "version": 3
   },
   "file_extension": ".py",
   "mimetype": "text/x-python",
   "name": "python",
   "nbconvert_exporter": "python",
   "pygments_lexer": "ipython3",
   "version": "3.7.4"
  }
 },
 "nbformat": 4,
 "nbformat_minor": 2
}
