{
 "cells": [
  {
   "cell_type": "code",
   "execution_count": null,
   "metadata": {},
   "outputs": [],
   "source": [
    "#A5-3 (2 points)\n",
    "def root():\n",
    "    for node in T:\n",
    "        if f(node) == 0:\n",
    "            return node\n",
    "        \n",
    "def is_root(p):\n",
    "    return f(p) == 0\n",
    "\n",
    "def parent(p):\n",
    "    if f(p) % 2 == 0:\n",
    "        for node in T:\n",
    "            return T[(f(p))/2-1]\n",
    "    elif f(p) % 2 == 1:\n",
    "        for node in T:\n",
    "            return T[(f(p)-1)/2]\n",
    "        \n",
    "def left(p):\n",
    "    for node in T:\n",
    "        if node == parent(T[2*f(p)+1]):\n",
    "            return node\n",
    "        else:\n",
    "            return None\n",
    "\n",
    "def right(p):\n",
    "    for node in T:\n",
    "        if node == parent(T[2*f(p)+2]):\n",
    "            return node\n",
    "        else:\n",
    "            return None\n",
    "\n",
    "def is_leaf(p):\n",
    "    if left(p) != None or right(p) != None:\n",
    "        False\n",
    "    else:\n",
    "        True"
   ]
  }
 ],
 "metadata": {
  "kernelspec": {
   "display_name": "Python 3",
   "language": "python",
   "name": "python3"
  },
  "language_info": {
   "codemirror_mode": {
    "name": "ipython",
    "version": 3
   },
   "file_extension": ".py",
   "mimetype": "text/x-python",
   "name": "python",
   "nbconvert_exporter": "python",
   "pygments_lexer": "ipython3",
   "version": "3.7.4"
  }
 },
 "nbformat": 4,
 "nbformat_minor": 2
}
