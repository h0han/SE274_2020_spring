{
 "cells": [
  {
   "cell_type": "code",
   "execution_count": null,
   "metadata": {},
   "outputs": [],
   "source": [
    "#A4-Bonus(1 point)\n",
    "from positional_list import PositionalList \n",
    "class personal_PL_B(PositionalList):\n",
    "    walk = self.first()\n",
    "    def find(self, elem):\n",
    "        if self.is_empty():\n",
    "            raise EmptyError('The list is empty')\n",
    "        else:\n",
    "            if self.first().element() == elem:\n",
    "                return self._make_position(walk.element())\n",
    "            else:\n",
    "                walk = self.after(walk)\n",
    "                if walk.element() == elem:\n",
    "                    return self._make_position(walk)\n",
    "                else:\n",
    "                    return self.find(self.element())"
   ]
  }
 ],
 "metadata": {
  "kernelspec": {
   "display_name": "Python 3",
   "language": "python",
   "name": "python3"
  },
  "language_info": {
   "codemirror_mode": {
    "name": "ipython",
    "version": 3
   },
   "file_extension": ".py",
   "mimetype": "text/x-python",
   "name": "python",
   "nbconvert_exporter": "python",
   "pygments_lexer": "ipython3",
   "version": "3.7.4"
  }
 },
 "nbformat": 4,
 "nbformat_minor": 2
}
