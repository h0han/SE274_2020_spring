{
 "cells": [
  {
   "cell_type": "code",
   "execution_count": 20,
   "metadata": {},
   "outputs": [],
   "source": [
    "from collections.abc import MutableMapping\n",
    "class DynamicMap(MutableMapping):\n",
    "    def __init__(self):\n",
    "        self._keys = []\n",
    "        self._values = []\n",
    "        \n",
    "    def __getitem__(self, key):\n",
    "        if not key in self._keys:\n",
    "            raise KeyError\n",
    "        return self._values[self._keys.index(key)]\n",
    "    \n",
    "    def __iter__(self):\n",
    "        for key in self._keys:\n",
    "            yield key\n",
    "            \n",
    "    def __len__(self):\n",
    "        return len(self._keys)\n",
    "    \n",
    "    def __setitem__(self, key, value):\n",
    "        self._keys.append(key)\n",
    "        self._values.append(value)\n",
    "        \n",
    "    def __delitem__(self, key):\n",
    "        index = self._keys.index(key)\n",
    "        self._keys.pop(index)\n",
    "        self._keys.pop(index)"
   ]
  },
  {
   "cell_type": "code",
   "execution_count": 21,
   "metadata": {},
   "outputs": [],
   "source": [
    "M = DynamicMap()"
   ]
  },
  {
   "cell_type": "code",
   "execution_count": 22,
   "metadata": {},
   "outputs": [],
   "source": [
    "M['a'] = 1234"
   ]
  },
  {
   "cell_type": "code",
   "execution_count": 23,
   "metadata": {},
   "outputs": [
    {
     "data": {
      "text/plain": [
       "[('a', 1234)]"
      ]
     },
     "execution_count": 23,
     "metadata": {},
     "output_type": "execute_result"
    }
   ],
   "source": [
    "list(M.items())"
   ]
  },
  {
   "cell_type": "code",
   "execution_count": 24,
   "metadata": {},
   "outputs": [],
   "source": [
    "M['b'] = 5678"
   ]
  },
  {
   "cell_type": "code",
   "execution_count": 25,
   "metadata": {},
   "outputs": [
    {
     "data": {
      "text/plain": [
       "[('a', 1234), ('b', 5678)]"
      ]
     },
     "execution_count": 25,
     "metadata": {},
     "output_type": "execute_result"
    }
   ],
   "source": [
    "list(M.items())"
   ]
  },
  {
   "cell_type": "code",
   "execution_count": null,
   "metadata": {},
   "outputs": [],
   "source": []
  }
 ],
 "metadata": {
  "kernelspec": {
   "display_name": "Python 3",
   "language": "python",
   "name": "python3"
  },
  "language_info": {
   "codemirror_mode": {
    "name": "ipython",
    "version": 3
   },
   "file_extension": ".py",
   "mimetype": "text/x-python",
   "name": "python",
   "nbconvert_exporter": "python",
   "pygments_lexer": "ipython3",
   "version": "3.7.4"
  }
 },
 "nbformat": 4,
 "nbformat_minor": 2
}
